{
  "cells": [
    {
      "cell_type": "code",
      "execution_count": 1,
      "metadata": {
        "colab": {
          "base_uri": "https://localhost:8080/"
        },
        "id": "4K0bG7O2A4_R",
        "outputId": "471ab72a-3833-4b8d-f90b-d32397ef2607"
      },
      "outputs": [
        {
          "name": "stdout",
          "output_type": "stream",
          "text": [
            "Cloning into 'VoiceToLipSync'...\n",
            "remote: Enumerating objects: 174, done.\u001b[K\n",
            "remote: Counting objects: 100% (174/174), done.\u001b[K\n",
            "remote: Compressing objects: 100% (145/145), done.\u001b[K\n",
            "remote: Total 174 (delta 39), reused 156 (delta 21), pack-reused 0 (from 0)\u001b[K\n",
            "Receiving objects: 100% (174/174), 3.53 MiB | 6.82 MiB/s, done.\n",
            "Resolving deltas: 100% (39/39), done.\n"
          ]
        }
      ],
      "source": [
        "!git clone https://github.com/PARKYUNSU/VoiceToLipSync"
      ]
    },
    {
      "cell_type": "code",
      "execution_count": 1,
      "metadata": {
        "colab": {
          "base_uri": "https://localhost:8080/"
        },
        "id": "NyGi7albBSlr",
        "outputId": "add665e8-c137-4f9d-b82b-048469198875"
      },
      "outputs": [
        {
          "name": "stdout",
          "output_type": "stream",
          "text": [
            "Requirement already satisfied: librosa==0.9.1 in /usr/local/lib/python3.11/dist-packages (from -r /content/VoiceToLipSync/OpenVoice/requirements.txt (line 1)) (0.9.1)\n",
            "Requirement already satisfied: faster-whisper==0.9.0 in /usr/local/lib/python3.11/dist-packages (from -r /content/VoiceToLipSync/OpenVoice/requirements.txt (line 2)) (0.9.0)\n",
            "Requirement already satisfied: pydub==0.25.1 in /usr/local/lib/python3.11/dist-packages (from -r /content/VoiceToLipSync/OpenVoice/requirements.txt (line 3)) (0.25.1)\n",
            "Requirement already satisfied: wavmark==0.0.3 in /usr/local/lib/python3.11/dist-packages (from -r /content/VoiceToLipSync/OpenVoice/requirements.txt (line 4)) (0.0.3)\n",
            "Requirement already satisfied: numpy==1.22.0 in /usr/local/lib/python3.11/dist-packages (from -r /content/VoiceToLipSync/OpenVoice/requirements.txt (line 5)) (1.22.0)\n",
            "Requirement already satisfied: eng_to_ipa==0.0.2 in /usr/local/lib/python3.11/dist-packages (from -r /content/VoiceToLipSync/OpenVoice/requirements.txt (line 6)) (0.0.2)\n",
            "Requirement already satisfied: inflect==7.0.0 in /usr/local/lib/python3.11/dist-packages (from -r /content/VoiceToLipSync/OpenVoice/requirements.txt (line 7)) (7.0.0)\n",
            "Requirement already satisfied: unidecode==1.3.7 in /usr/local/lib/python3.11/dist-packages (from -r /content/VoiceToLipSync/OpenVoice/requirements.txt (line 8)) (1.3.7)\n",
            "Requirement already satisfied: whisper-timestamped==1.14.2 in /usr/local/lib/python3.11/dist-packages (from -r /content/VoiceToLipSync/OpenVoice/requirements.txt (line 9)) (1.14.2)\n",
            "Requirement already satisfied: openai in /usr/local/lib/python3.11/dist-packages (from -r /content/VoiceToLipSync/OpenVoice/requirements.txt (line 10)) (1.59.6)\n",
            "Requirement already satisfied: python-dotenv in /usr/local/lib/python3.11/dist-packages (from -r /content/VoiceToLipSync/OpenVoice/requirements.txt (line 11)) (1.0.1)\n",
            "Requirement already satisfied: pypinyin==0.50.0 in /usr/local/lib/python3.11/dist-packages (from -r /content/VoiceToLipSync/OpenVoice/requirements.txt (line 12)) (0.50.0)\n",
            "Requirement already satisfied: cn2an==0.5.22 in /usr/local/lib/python3.11/dist-packages (from -r /content/VoiceToLipSync/OpenVoice/requirements.txt (line 13)) (0.5.22)\n",
            "Requirement already satisfied: jieba==0.42.1 in /usr/local/lib/python3.11/dist-packages (from -r /content/VoiceToLipSync/OpenVoice/requirements.txt (line 14)) (0.42.1)\n",
            "Requirement already satisfied: gradio==3.48.0 in /usr/local/lib/python3.11/dist-packages (from -r /content/VoiceToLipSync/OpenVoice/requirements.txt (line 15)) (3.48.0)\n",
            "Requirement already satisfied: langid==1.1.6 in /usr/local/lib/python3.11/dist-packages (from -r /content/VoiceToLipSync/OpenVoice/requirements.txt (line 16)) (1.1.6)\n",
            "Requirement already satisfied: audioread>=2.1.5 in /usr/local/lib/python3.11/dist-packages (from librosa==0.9.1->-r /content/VoiceToLipSync/OpenVoice/requirements.txt (line 1)) (3.0.1)\n",
            "Requirement already satisfied: scipy>=1.2.0 in /usr/local/lib/python3.11/dist-packages (from librosa==0.9.1->-r /content/VoiceToLipSync/OpenVoice/requirements.txt (line 1)) (1.11.4)\n",
            "Requirement already satisfied: scikit-learn>=0.19.1 in /usr/local/lib/python3.11/dist-packages (from librosa==0.9.1->-r /content/VoiceToLipSync/OpenVoice/requirements.txt (line 1)) (1.6.0)\n",
            "Requirement already satisfied: joblib>=0.14 in /usr/local/lib/python3.11/dist-packages (from librosa==0.9.1->-r /content/VoiceToLipSync/OpenVoice/requirements.txt (line 1)) (1.4.2)\n",
            "Requirement already satisfied: decorator>=4.0.10 in /usr/local/lib/python3.11/dist-packages (from librosa==0.9.1->-r /content/VoiceToLipSync/OpenVoice/requirements.txt (line 1)) (4.4.2)\n",
            "Requirement already satisfied: resampy>=0.2.2 in /usr/local/lib/python3.11/dist-packages (from librosa==0.9.1->-r /content/VoiceToLipSync/OpenVoice/requirements.txt (line 1)) (0.4.3)\n",
            "Requirement already satisfied: numba>=0.45.1 in /usr/local/lib/python3.11/dist-packages (from librosa==0.9.1->-r /content/VoiceToLipSync/OpenVoice/requirements.txt (line 1)) (0.60.0)\n",
            "Requirement already satisfied: soundfile>=0.10.2 in /usr/local/lib/python3.11/dist-packages (from librosa==0.9.1->-r /content/VoiceToLipSync/OpenVoice/requirements.txt (line 1)) (0.13.0)\n",
            "Requirement already satisfied: pooch>=1.0 in /usr/local/lib/python3.11/dist-packages (from librosa==0.9.1->-r /content/VoiceToLipSync/OpenVoice/requirements.txt (line 1)) (1.8.2)\n",
            "Requirement already satisfied: packaging>=20.0 in /usr/local/lib/python3.11/dist-packages (from librosa==0.9.1->-r /content/VoiceToLipSync/OpenVoice/requirements.txt (line 1)) (24.2)\n",
            "Requirement already satisfied: av==10.* in /usr/local/lib/python3.11/dist-packages (from faster-whisper==0.9.0->-r /content/VoiceToLipSync/OpenVoice/requirements.txt (line 2)) (10.0.0)\n",
            "Requirement already satisfied: ctranslate2<4,>=3.17 in /usr/local/lib/python3.11/dist-packages (from faster-whisper==0.9.0->-r /content/VoiceToLipSync/OpenVoice/requirements.txt (line 2)) (3.24.0)\n",
            "Requirement already satisfied: huggingface-hub>=0.13 in /usr/local/lib/python3.11/dist-packages (from faster-whisper==0.9.0->-r /content/VoiceToLipSync/OpenVoice/requirements.txt (line 2)) (0.17.3)\n",
            "Requirement already satisfied: tokenizers<0.15,>=0.13 in /usr/local/lib/python3.11/dist-packages (from faster-whisper==0.9.0->-r /content/VoiceToLipSync/OpenVoice/requirements.txt (line 2)) (0.14.1)\n",
            "Requirement already satisfied: onnxruntime<2,>=1.14 in /usr/local/lib/python3.11/dist-packages (from faster-whisper==0.9.0->-r /content/VoiceToLipSync/OpenVoice/requirements.txt (line 2)) (1.20.1)\n",
            "Requirement already satisfied: torch in /usr/local/lib/python3.11/dist-packages (from wavmark==0.0.3->-r /content/VoiceToLipSync/OpenVoice/requirements.txt (line 4)) (2.5.1+cu121)\n",
            "Requirement already satisfied: torchaudio in /usr/local/lib/python3.11/dist-packages (from wavmark==0.0.3->-r /content/VoiceToLipSync/OpenVoice/requirements.txt (line 4)) (2.5.1+cu121)\n",
            "Requirement already satisfied: tqdm in /usr/local/lib/python3.11/dist-packages (from wavmark==0.0.3->-r /content/VoiceToLipSync/OpenVoice/requirements.txt (line 4)) (4.67.1)\n",
            "Requirement already satisfied: pydantic>=1.9.1 in /usr/local/lib/python3.11/dist-packages (from inflect==7.0.0->-r /content/VoiceToLipSync/OpenVoice/requirements.txt (line 7)) (2.10.5)\n",
            "Requirement already satisfied: typing-extensions in /usr/local/lib/python3.11/dist-packages (from inflect==7.0.0->-r /content/VoiceToLipSync/OpenVoice/requirements.txt (line 7)) (4.12.2)\n",
            "Requirement already satisfied: Cython in /usr/local/lib/python3.11/dist-packages (from whisper-timestamped==1.14.2->-r /content/VoiceToLipSync/OpenVoice/requirements.txt (line 9)) (3.0.11)\n",
            "Requirement already satisfied: dtw-python in /usr/local/lib/python3.11/dist-packages (from whisper-timestamped==1.14.2->-r /content/VoiceToLipSync/OpenVoice/requirements.txt (line 9)) (1.4.4)\n",
            "Requirement already satisfied: openai-whisper in /usr/local/lib/python3.11/dist-packages (from whisper-timestamped==1.14.2->-r /content/VoiceToLipSync/OpenVoice/requirements.txt (line 9)) (20240930)\n",
            "Requirement already satisfied: setuptools>=47.3.1 in /usr/local/lib/python3.11/dist-packages (from cn2an==0.5.22->-r /content/VoiceToLipSync/OpenVoice/requirements.txt (line 13)) (75.1.0)\n",
            "Requirement already satisfied: proces>=0.1.3 in /usr/local/lib/python3.11/dist-packages (from cn2an==0.5.22->-r /content/VoiceToLipSync/OpenVoice/requirements.txt (line 13)) (0.1.7)\n",
            "Requirement already satisfied: aiofiles<24.0,>=22.0 in /usr/local/lib/python3.11/dist-packages (from gradio==3.48.0->-r /content/VoiceToLipSync/OpenVoice/requirements.txt (line 15)) (23.2.1)\n",
            "Requirement already satisfied: altair<6.0,>=4.2.0 in /usr/local/lib/python3.11/dist-packages (from gradio==3.48.0->-r /content/VoiceToLipSync/OpenVoice/requirements.txt (line 15)) (5.5.0)\n",
            "Requirement already satisfied: fastapi in /usr/local/lib/python3.11/dist-packages (from gradio==3.48.0->-r /content/VoiceToLipSync/OpenVoice/requirements.txt (line 15)) (0.115.6)\n",
            "Requirement already satisfied: ffmpy in /usr/local/lib/python3.11/dist-packages (from gradio==3.48.0->-r /content/VoiceToLipSync/OpenVoice/requirements.txt (line 15)) (0.5.0)\n",
            "Requirement already satisfied: gradio-client==0.6.1 in /usr/local/lib/python3.11/dist-packages (from gradio==3.48.0->-r /content/VoiceToLipSync/OpenVoice/requirements.txt (line 15)) (0.6.1)\n",
            "Requirement already satisfied: httpx in /usr/local/lib/python3.11/dist-packages (from gradio==3.48.0->-r /content/VoiceToLipSync/OpenVoice/requirements.txt (line 15)) (0.28.1)\n",
            "Requirement already satisfied: importlib-resources<7.0,>=1.3 in /usr/local/lib/python3.11/dist-packages (from gradio==3.48.0->-r /content/VoiceToLipSync/OpenVoice/requirements.txt (line 15)) (6.5.2)\n",
            "Requirement already satisfied: jinja2<4.0 in /usr/local/lib/python3.11/dist-packages (from gradio==3.48.0->-r /content/VoiceToLipSync/OpenVoice/requirements.txt (line 15)) (3.1.5)\n",
            "Requirement already satisfied: markupsafe~=2.0 in /usr/local/lib/python3.11/dist-packages (from gradio==3.48.0->-r /content/VoiceToLipSync/OpenVoice/requirements.txt (line 15)) (2.1.5)\n",
            "Requirement already satisfied: matplotlib~=3.0 in /usr/local/lib/python3.11/dist-packages (from gradio==3.48.0->-r /content/VoiceToLipSync/OpenVoice/requirements.txt (line 15)) (3.8.4)\n",
            "Requirement already satisfied: orjson~=3.0 in /usr/local/lib/python3.11/dist-packages (from gradio==3.48.0->-r /content/VoiceToLipSync/OpenVoice/requirements.txt (line 15)) (3.10.14)\n",
            "Requirement already satisfied: pandas<3.0,>=1.0 in /usr/local/lib/python3.11/dist-packages (from gradio==3.48.0->-r /content/VoiceToLipSync/OpenVoice/requirements.txt (line 15)) (1.5.1)\n",
            "Requirement already satisfied: pillow<11.0,>=8.0 in /usr/local/lib/python3.11/dist-packages (from gradio==3.48.0->-r /content/VoiceToLipSync/OpenVoice/requirements.txt (line 15)) (10.4.0)\n",
            "Requirement already satisfied: python-multipart in /usr/local/lib/python3.11/dist-packages (from gradio==3.48.0->-r /content/VoiceToLipSync/OpenVoice/requirements.txt (line 15)) (0.0.20)\n",
            "Requirement already satisfied: pyyaml<7.0,>=5.0 in /usr/local/lib/python3.11/dist-packages (from gradio==3.48.0->-r /content/VoiceToLipSync/OpenVoice/requirements.txt (line 15)) (6.0.2)\n",
            "Requirement already satisfied: requests~=2.0 in /usr/local/lib/python3.11/dist-packages (from gradio==3.48.0->-r /content/VoiceToLipSync/OpenVoice/requirements.txt (line 15)) (2.32.3)\n",
            "Requirement already satisfied: semantic-version~=2.0 in /usr/local/lib/python3.11/dist-packages (from gradio==3.48.0->-r /content/VoiceToLipSync/OpenVoice/requirements.txt (line 15)) (2.10.0)\n",
            "Requirement already satisfied: uvicorn>=0.14.0 in /usr/local/lib/python3.11/dist-packages (from gradio==3.48.0->-r /content/VoiceToLipSync/OpenVoice/requirements.txt (line 15)) (0.34.0)\n",
            "Requirement already satisfied: websockets<12.0,>=10.0 in /usr/local/lib/python3.11/dist-packages (from gradio==3.48.0->-r /content/VoiceToLipSync/OpenVoice/requirements.txt (line 15)) (11.0.3)\n",
            "Requirement already satisfied: fsspec in /usr/local/lib/python3.11/dist-packages (from gradio-client==0.6.1->gradio==3.48.0->-r /content/VoiceToLipSync/OpenVoice/requirements.txt (line 15)) (2024.10.0)\n",
            "Requirement already satisfied: anyio<5,>=3.5.0 in /usr/local/lib/python3.11/dist-packages (from openai->-r /content/VoiceToLipSync/OpenVoice/requirements.txt (line 10)) (3.7.1)\n",
            "Requirement already satisfied: distro<2,>=1.7.0 in /usr/local/lib/python3.11/dist-packages (from openai->-r /content/VoiceToLipSync/OpenVoice/requirements.txt (line 10)) (1.9.0)\n",
            "Requirement already satisfied: jiter<1,>=0.4.0 in /usr/local/lib/python3.11/dist-packages (from openai->-r /content/VoiceToLipSync/OpenVoice/requirements.txt (line 10)) (0.8.2)\n",
            "Requirement already satisfied: sniffio in /usr/local/lib/python3.11/dist-packages (from openai->-r /content/VoiceToLipSync/OpenVoice/requirements.txt (line 10)) (1.3.1)\n",
            "Requirement already satisfied: jsonschema>=3.0 in /usr/local/lib/python3.11/dist-packages (from altair<6.0,>=4.2.0->gradio==3.48.0->-r /content/VoiceToLipSync/OpenVoice/requirements.txt (line 15)) (4.23.0)\n",
            "Requirement already satisfied: narwhals>=1.14.2 in /usr/local/lib/python3.11/dist-packages (from altair<6.0,>=4.2.0->gradio==3.48.0->-r /content/VoiceToLipSync/OpenVoice/requirements.txt (line 15)) (1.21.1)\n",
            "Requirement already satisfied: idna>=2.8 in /usr/local/lib/python3.11/dist-packages (from anyio<5,>=3.5.0->openai->-r /content/VoiceToLipSync/OpenVoice/requirements.txt (line 10)) (3.10)\n",
            "Requirement already satisfied: certifi in /usr/local/lib/python3.11/dist-packages (from httpx->gradio==3.48.0->-r /content/VoiceToLipSync/OpenVoice/requirements.txt (line 15)) (2024.12.14)\n",
            "Requirement already satisfied: httpcore==1.* in /usr/local/lib/python3.11/dist-packages (from httpx->gradio==3.48.0->-r /content/VoiceToLipSync/OpenVoice/requirements.txt (line 15)) (1.0.7)\n",
            "Requirement already satisfied: h11<0.15,>=0.13 in /usr/local/lib/python3.11/dist-packages (from httpcore==1.*->httpx->gradio==3.48.0->-r /content/VoiceToLipSync/OpenVoice/requirements.txt (line 15)) (0.14.0)\n",
            "Requirement already satisfied: filelock in /usr/local/lib/python3.11/dist-packages (from huggingface-hub>=0.13->faster-whisper==0.9.0->-r /content/VoiceToLipSync/OpenVoice/requirements.txt (line 2)) (3.16.1)\n",
            "Requirement already satisfied: contourpy>=1.0.1 in /usr/local/lib/python3.11/dist-packages (from matplotlib~=3.0->gradio==3.48.0->-r /content/VoiceToLipSync/OpenVoice/requirements.txt (line 15)) (1.2.1)\n",
            "Requirement already satisfied: cycler>=0.10 in /usr/local/lib/python3.11/dist-packages (from matplotlib~=3.0->gradio==3.48.0->-r /content/VoiceToLipSync/OpenVoice/requirements.txt (line 15)) (0.12.1)\n",
            "Requirement already satisfied: fonttools>=4.22.0 in /usr/local/lib/python3.11/dist-packages (from matplotlib~=3.0->gradio==3.48.0->-r /content/VoiceToLipSync/OpenVoice/requirements.txt (line 15)) (4.55.3)\n",
            "Requirement already satisfied: kiwisolver>=1.3.1 in /usr/local/lib/python3.11/dist-packages (from matplotlib~=3.0->gradio==3.48.0->-r /content/VoiceToLipSync/OpenVoice/requirements.txt (line 15)) (1.4.8)\n",
            "Requirement already satisfied: pyparsing>=2.3.1 in /usr/local/lib/python3.11/dist-packages (from matplotlib~=3.0->gradio==3.48.0->-r /content/VoiceToLipSync/OpenVoice/requirements.txt (line 15)) (3.2.1)\n",
            "Requirement already satisfied: python-dateutil>=2.7 in /usr/local/lib/python3.11/dist-packages (from matplotlib~=3.0->gradio==3.48.0->-r /content/VoiceToLipSync/OpenVoice/requirements.txt (line 15)) (2.8.2)\n",
            "Requirement already satisfied: llvmlite<0.44,>=0.43.0dev0 in /usr/local/lib/python3.11/dist-packages (from numba>=0.45.1->librosa==0.9.1->-r /content/VoiceToLipSync/OpenVoice/requirements.txt (line 1)) (0.43.0)\n",
            "Requirement already satisfied: coloredlogs in /usr/local/lib/python3.11/dist-packages (from onnxruntime<2,>=1.14->faster-whisper==0.9.0->-r /content/VoiceToLipSync/OpenVoice/requirements.txt (line 2)) (15.0.1)\n",
            "Requirement already satisfied: flatbuffers in /usr/local/lib/python3.11/dist-packages (from onnxruntime<2,>=1.14->faster-whisper==0.9.0->-r /content/VoiceToLipSync/OpenVoice/requirements.txt (line 2)) (24.12.23)\n",
            "Requirement already satisfied: protobuf in /usr/local/lib/python3.11/dist-packages (from onnxruntime<2,>=1.14->faster-whisper==0.9.0->-r /content/VoiceToLipSync/OpenVoice/requirements.txt (line 2)) (4.25.5)\n",
            "Requirement already satisfied: sympy in /usr/local/lib/python3.11/dist-packages (from onnxruntime<2,>=1.14->faster-whisper==0.9.0->-r /content/VoiceToLipSync/OpenVoice/requirements.txt (line 2)) (1.13.1)\n",
            "Requirement already satisfied: pytz>=2020.1 in /usr/local/lib/python3.11/dist-packages (from pandas<3.0,>=1.0->gradio==3.48.0->-r /content/VoiceToLipSync/OpenVoice/requirements.txt (line 15)) (2024.2)\n",
            "Requirement already satisfied: platformdirs>=2.5.0 in /usr/local/lib/python3.11/dist-packages (from pooch>=1.0->librosa==0.9.1->-r /content/VoiceToLipSync/OpenVoice/requirements.txt (line 1)) (4.3.6)\n",
            "Requirement already satisfied: annotated-types>=0.6.0 in /usr/local/lib/python3.11/dist-packages (from pydantic>=1.9.1->inflect==7.0.0->-r /content/VoiceToLipSync/OpenVoice/requirements.txt (line 7)) (0.7.0)\n",
            "Requirement already satisfied: pydantic-core==2.27.2 in /usr/local/lib/python3.11/dist-packages (from pydantic>=1.9.1->inflect==7.0.0->-r /content/VoiceToLipSync/OpenVoice/requirements.txt (line 7)) (2.27.2)\n",
            "Requirement already satisfied: charset-normalizer<4,>=2 in /usr/local/lib/python3.11/dist-packages (from requests~=2.0->gradio==3.48.0->-r /content/VoiceToLipSync/OpenVoice/requirements.txt (line 15)) (3.4.1)\n",
            "Requirement already satisfied: urllib3<3,>=1.21.1 in /usr/local/lib/python3.11/dist-packages (from requests~=2.0->gradio==3.48.0->-r /content/VoiceToLipSync/OpenVoice/requirements.txt (line 15)) (2.3.0)\n",
            "Requirement already satisfied: threadpoolctl>=3.1.0 in /usr/local/lib/python3.11/dist-packages (from scikit-learn>=0.19.1->librosa==0.9.1->-r /content/VoiceToLipSync/OpenVoice/requirements.txt (line 1)) (3.5.0)\n",
            "Requirement already satisfied: cffi>=1.0 in /usr/local/lib/python3.11/dist-packages (from soundfile>=0.10.2->librosa==0.9.1->-r /content/VoiceToLipSync/OpenVoice/requirements.txt (line 1)) (1.17.1)\n",
            "Requirement already satisfied: click>=7.0 in /usr/local/lib/python3.11/dist-packages (from uvicorn>=0.14.0->gradio==3.48.0->-r /content/VoiceToLipSync/OpenVoice/requirements.txt (line 15)) (8.1.8)\n",
            "Requirement already satisfied: starlette<0.42.0,>=0.40.0 in /usr/local/lib/python3.11/dist-packages (from fastapi->gradio==3.48.0->-r /content/VoiceToLipSync/OpenVoice/requirements.txt (line 15)) (0.41.3)\n",
            "Requirement already satisfied: more-itertools in /usr/local/lib/python3.11/dist-packages (from openai-whisper->whisper-timestamped==1.14.2->-r /content/VoiceToLipSync/OpenVoice/requirements.txt (line 9)) (10.5.0)\n",
            "Requirement already satisfied: tiktoken in /usr/local/lib/python3.11/dist-packages (from openai-whisper->whisper-timestamped==1.14.2->-r /content/VoiceToLipSync/OpenVoice/requirements.txt (line 9)) (0.8.0)\n",
            "Requirement already satisfied: triton>=2.0.0 in /usr/local/lib/python3.11/dist-packages (from openai-whisper->whisper-timestamped==1.14.2->-r /content/VoiceToLipSync/OpenVoice/requirements.txt (line 9)) (3.1.0)\n",
            "Requirement already satisfied: networkx in /usr/local/lib/python3.11/dist-packages (from torch->wavmark==0.0.3->-r /content/VoiceToLipSync/OpenVoice/requirements.txt (line 4)) (3.4.2)\n",
            "Requirement already satisfied: nvidia-cuda-nvrtc-cu12==12.1.105 in /usr/local/lib/python3.11/dist-packages (from torch->wavmark==0.0.3->-r /content/VoiceToLipSync/OpenVoice/requirements.txt (line 4)) (12.1.105)\n",
            "Requirement already satisfied: nvidia-cuda-runtime-cu12==12.1.105 in /usr/local/lib/python3.11/dist-packages (from torch->wavmark==0.0.3->-r /content/VoiceToLipSync/OpenVoice/requirements.txt (line 4)) (12.1.105)\n",
            "Requirement already satisfied: nvidia-cuda-cupti-cu12==12.1.105 in /usr/local/lib/python3.11/dist-packages (from torch->wavmark==0.0.3->-r /content/VoiceToLipSync/OpenVoice/requirements.txt (line 4)) (12.1.105)\n",
            "Requirement already satisfied: nvidia-cudnn-cu12==9.1.0.70 in /usr/local/lib/python3.11/dist-packages (from torch->wavmark==0.0.3->-r /content/VoiceToLipSync/OpenVoice/requirements.txt (line 4)) (9.1.0.70)\n",
            "Requirement already satisfied: nvidia-cublas-cu12==12.1.3.1 in /usr/local/lib/python3.11/dist-packages (from torch->wavmark==0.0.3->-r /content/VoiceToLipSync/OpenVoice/requirements.txt (line 4)) (12.1.3.1)\n",
            "Requirement already satisfied: nvidia-cufft-cu12==11.0.2.54 in /usr/local/lib/python3.11/dist-packages (from torch->wavmark==0.0.3->-r /content/VoiceToLipSync/OpenVoice/requirements.txt (line 4)) (11.0.2.54)\n",
            "Requirement already satisfied: nvidia-curand-cu12==10.3.2.106 in /usr/local/lib/python3.11/dist-packages (from torch->wavmark==0.0.3->-r /content/VoiceToLipSync/OpenVoice/requirements.txt (line 4)) (10.3.2.106)\n",
            "Requirement already satisfied: nvidia-cusolver-cu12==11.4.5.107 in /usr/local/lib/python3.11/dist-packages (from torch->wavmark==0.0.3->-r /content/VoiceToLipSync/OpenVoice/requirements.txt (line 4)) (11.4.5.107)\n",
            "Requirement already satisfied: nvidia-cusparse-cu12==12.1.0.106 in /usr/local/lib/python3.11/dist-packages (from torch->wavmark==0.0.3->-r /content/VoiceToLipSync/OpenVoice/requirements.txt (line 4)) (12.1.0.106)\n",
            "Requirement already satisfied: nvidia-nccl-cu12==2.21.5 in /usr/local/lib/python3.11/dist-packages (from torch->wavmark==0.0.3->-r /content/VoiceToLipSync/OpenVoice/requirements.txt (line 4)) (2.21.5)\n",
            "Requirement already satisfied: nvidia-nvtx-cu12==12.1.105 in /usr/local/lib/python3.11/dist-packages (from torch->wavmark==0.0.3->-r /content/VoiceToLipSync/OpenVoice/requirements.txt (line 4)) (12.1.105)\n",
            "Requirement already satisfied: nvidia-nvjitlink-cu12 in /usr/local/lib/python3.11/dist-packages (from nvidia-cusolver-cu12==11.4.5.107->torch->wavmark==0.0.3->-r /content/VoiceToLipSync/OpenVoice/requirements.txt (line 4)) (12.6.85)\n",
            "Requirement already satisfied: mpmath<1.4,>=1.1.0 in /usr/local/lib/python3.11/dist-packages (from sympy->onnxruntime<2,>=1.14->faster-whisper==0.9.0->-r /content/VoiceToLipSync/OpenVoice/requirements.txt (line 2)) (1.3.0)\n",
            "Requirement already satisfied: pycparser in /usr/local/lib/python3.11/dist-packages (from cffi>=1.0->soundfile>=0.10.2->librosa==0.9.1->-r /content/VoiceToLipSync/OpenVoice/requirements.txt (line 1)) (2.22)\n",
            "Requirement already satisfied: attrs>=22.2.0 in /usr/local/lib/python3.11/dist-packages (from jsonschema>=3.0->altair<6.0,>=4.2.0->gradio==3.48.0->-r /content/VoiceToLipSync/OpenVoice/requirements.txt (line 15)) (24.3.0)\n",
            "Requirement already satisfied: jsonschema-specifications>=2023.03.6 in /usr/local/lib/python3.11/dist-packages (from jsonschema>=3.0->altair<6.0,>=4.2.0->gradio==3.48.0->-r /content/VoiceToLipSync/OpenVoice/requirements.txt (line 15)) (2024.10.1)\n",
            "Requirement already satisfied: referencing>=0.28.4 in /usr/local/lib/python3.11/dist-packages (from jsonschema>=3.0->altair<6.0,>=4.2.0->gradio==3.48.0->-r /content/VoiceToLipSync/OpenVoice/requirements.txt (line 15)) (0.35.1)\n",
            "Requirement already satisfied: rpds-py>=0.7.1 in /usr/local/lib/python3.11/dist-packages (from jsonschema>=3.0->altair<6.0,>=4.2.0->gradio==3.48.0->-r /content/VoiceToLipSync/OpenVoice/requirements.txt (line 15)) (0.22.3)\n",
            "Requirement already satisfied: six>=1.5 in /usr/local/lib/python3.11/dist-packages (from python-dateutil>=2.7->matplotlib~=3.0->gradio==3.48.0->-r /content/VoiceToLipSync/OpenVoice/requirements.txt (line 15)) (1.17.0)\n",
            "Requirement already satisfied: humanfriendly>=9.1 in /usr/local/lib/python3.11/dist-packages (from coloredlogs->onnxruntime<2,>=1.14->faster-whisper==0.9.0->-r /content/VoiceToLipSync/OpenVoice/requirements.txt (line 2)) (10.0)\n",
            "Requirement already satisfied: regex>=2022.1.18 in /usr/local/lib/python3.11/dist-packages (from tiktoken->openai-whisper->whisper-timestamped==1.14.2->-r /content/VoiceToLipSync/OpenVoice/requirements.txt (line 9)) (2024.11.6)\n"
          ]
        }
      ],
      "source": [
        "!pip install -r \"/content/VoiceToLipSync/OpenVoice/requirements.txt\""
      ]
    },
    {
      "cell_type": "code",
      "execution_count": 2,
      "metadata": {
        "colab": {
          "base_uri": "https://localhost:8080/"
        },
        "id": "stPMq0MaCsjV",
        "outputId": "6c29c4a7-3ed8-439c-b234-407c6e797e34"
      },
      "outputs": [
        {
          "name": "stdout",
          "output_type": "stream",
          "text": [
            "Collecting librosa==0.7.0 (from -r /content/VoiceToLipSync/Wav2Lip/requirements.txt (line 1))\n",
            "  Using cached librosa-0.7.0.tar.gz (1.6 MB)\n",
            "  Preparing metadata (setup.py) ... \u001b[?25l\u001b[?25hdone\n",
            "Collecting numpy==1.17.1 (from -r /content/VoiceToLipSync/Wav2Lip/requirements.txt (line 2))\n",
            "  Using cached numpy-1.17.1.zip (6.5 MB)\n",
            "  Preparing metadata (setup.py) ... \u001b[?25l\u001b[?25hdone\n",
            "Requirement already satisfied: opencv-contrib-python>=4.2.0.34 in /usr/local/lib/python3.11/dist-packages (from -r /content/VoiceToLipSync/Wav2Lip/requirements.txt (line 3)) (4.10.0.84)\n",
            "Collecting opencv-python==4.5.1.48 (from -r /content/VoiceToLipSync/Wav2Lip/requirements.txt (line 4))\n",
            "  Using cached opencv-python-4.5.1.48.tar.gz (88.3 MB)\n",
            "  \u001b[1;31merror\u001b[0m: \u001b[1msubprocess-exited-with-error\u001b[0m\n",
            "  \n",
            "  \u001b[31m×\u001b[0m \u001b[32mpip subprocess to install build dependencies\u001b[0m did not run successfully.\n",
            "  \u001b[31m│\u001b[0m exit code: \u001b[1;36m1\u001b[0m\n",
            "  \u001b[31m╰─>\u001b[0m See above for output.\n",
            "  \n",
            "  \u001b[1;35mnote\u001b[0m: This error originates from a subprocess, and is likely not a problem with pip.\n",
            "  Installing build dependencies ... \u001b[?25l\u001b[?25herror\n",
            "\u001b[1;31merror\u001b[0m: \u001b[1msubprocess-exited-with-error\u001b[0m\n",
            "\n",
            "\u001b[31m×\u001b[0m \u001b[32mpip subprocess to install build dependencies\u001b[0m did not run successfully.\n",
            "\u001b[31m│\u001b[0m exit code: \u001b[1;36m1\u001b[0m\n",
            "\u001b[31m╰─>\u001b[0m See above for output.\n",
            "\n",
            "\u001b[1;35mnote\u001b[0m: This error originates from a subprocess, and is likely not a problem with pip.\n"
          ]
        }
      ],
      "source": [
        "!pip install -r \"/content/VoiceToLipSync/Wav2Lip/requirements.txt\""
      ]
    },
    {
      "cell_type": "code",
      "execution_count": 1,
      "metadata": {
        "colab": {
          "base_uri": "https://localhost:8080/"
        },
        "id": "0QNL_0OeEORJ",
        "outputId": "902fe3db-5fad-4c79-cca0-659e87e5f5a5"
      },
      "outputs": [
        {
          "name": "stdout",
          "output_type": "stream",
          "text": [
            "Requirement already satisfied: numpy==1.23.5 in /usr/local/lib/python3.11/dist-packages (1.23.5)\n"
          ]
        }
      ],
      "source": [
        "!pip install numpy==1.23.5\n",
        "# !pip uninstall scipy librosa\n",
        "# !pip install scipy librosa"
      ]
    },
    {
      "cell_type": "code",
      "execution_count": 2,
      "metadata": {
        "colab": {
          "base_uri": "https://localhost:8080/"
        },
        "id": "ulDezrm3IPnY",
        "outputId": "fa96e194-9067-4c1e-f19a-91f61f646ec5"
      },
      "outputs": [
        {
          "name": "stderr",
          "output_type": "stream",
          "text": [
            "Downloading...\n",
            "From (original): https://drive.google.com/uc?id=1j4O3fkpxcRtSAR6WQiZ6CokUnLHPG5Hm\n",
            "From (redirected): https://drive.google.com/uc?id=1j4O3fkpxcRtSAR6WQiZ6CokUnLHPG5Hm&confirm=t&uuid=9cd5a822-86a5-41d9-a8b1-4df75cf68655\n",
            "To: /content/VoiceToLipSync/checkpoints.zip\n",
            "100%|██████████| 772M/772M [00:07<00:00, 99.5MB/s]\n"
          ]
        },
        {
          "name": "stdout",
          "output_type": "stream",
          "text": [
            "압축 풀기 완료\n"
          ]
        }
      ],
      "source": [
        "import gdown\n",
        "import zipfile\n",
        "import os\n",
        "\n",
        "# Google Drive 파일 ID\n",
        "file_id = '1j4O3fkpxcRtSAR6WQiZ6CokUnLHPG5Hm'\n",
        "\n",
        "# 다운로드할 파일 경로\n",
        "output_path = '/content/VoiceToLipSync/checkpoints.zip'\n",
        "\n",
        "# gdown을 사용하여 파일 다운로드\n",
        "gdown.download(f'https://drive.google.com/uc?id={file_id}', output=output_path, quiet=False)\n",
        "\n",
        "# 압축을 풀 경로\n",
        "extract_path = '/content/VoiceToLipSync/'\n",
        "\n",
        "# 다운로드한 zip 파일 압축 풀기\n",
        "with zipfile.ZipFile(output_path, 'r') as zip_ref:\n",
        "    zip_ref.extractall(extract_path)\n",
        "\n",
        "print(\"압축 풀기 완료\")"
      ]
    },
    {
      "cell_type": "code",
      "execution_count": 3,
      "metadata": {
        "colab": {
          "base_uri": "https://localhost:8080/"
        },
        "id": "Um1PjAB8Vuao",
        "outputId": "2a3c0836-9991-4637-fd75-0d6876d3c29e"
      },
      "outputs": [
        {
          "name": "stderr",
          "output_type": "stream",
          "text": [
            "Downloading...\n",
            "From: https://drive.google.com/uc?export=download&id=1i4XlwVIa4NZUZVJUB7tuP_SSuMfm78HM\n",
            "To: /content/VoiceToLipSync/Wav2Lip/face_detection/detection/sfd/s3fd.pth\n",
            "100%|██████████| 89.8M/89.8M [00:02<00:00, 32.6MB/s]"
          ]
        },
        {
          "name": "stdout",
          "output_type": "stream",
          "text": [
            "File downloaded and saved to /content/VoiceToLipSync/Wav2Lip/face_detection/detection/sfd/s3fd.pth\n"
          ]
        },
        {
          "name": "stderr",
          "output_type": "stream",
          "text": [
            "\n"
          ]
        }
      ],
      "source": [
        "import gdown\n",
        "import os\n",
        "\n",
        "# Google Drive에서 공유 링크로 파일 ID 추출\n",
        "file_id = '1i4XlwVIa4NZUZVJUB7tuP_SSuMfm78HM'\n",
        "url = f'https://drive.google.com/uc?export=download&id={file_id}'\n",
        "\n",
        "# 다운로드 받을 경로 설정\n",
        "output_dir = '/content/VoiceToLipSync/Wav2Lip/face_detection/detection/sfd'\n",
        "os.makedirs(output_dir, exist_ok=True)\n",
        "\n",
        "# 다운로드 받은 파일 경로 설정\n",
        "output_path = os.path.join(output_dir, 's3fd.pth')\n",
        "\n",
        "# gdown을 사용하여 파일 다운로드\n",
        "gdown.download(url, output_path, quiet=False)\n",
        "\n",
        "print(f\"File downloaded and saved to {output_path}\")"
      ]
    },
    {
      "cell_type": "code",
      "execution_count": 25,
      "metadata": {
        "colab": {
          "base_uri": "https://localhost:8080/"
        },
        "id": "YOs6ZqzrBLTh",
        "outputId": "fee78e07-0804-4906-baba-290dda1b404f"
      },
      "outputs": [
        {
          "name": "stdout",
          "output_type": "stream",
          "text": [
            "ffmpeg version 4.4.2-0ubuntu0.22.04.1 Copyright (c) 2000-2021 the FFmpeg developers\n",
            "  built with gcc 11 (Ubuntu 11.2.0-19ubuntu1)\n",
            "  configuration: --prefix=/usr --extra-version=0ubuntu0.22.04.1 --toolchain=hardened --libdir=/usr/lib/x86_64-linux-gnu --incdir=/usr/include/x86_64-linux-gnu --arch=amd64 --enable-gpl --disable-stripping --enable-gnutls --enable-ladspa --enable-libaom --enable-libass --enable-libbluray --enable-libbs2b --enable-libcaca --enable-libcdio --enable-libcodec2 --enable-libdav1d --enable-libflite --enable-libfontconfig --enable-libfreetype --enable-libfribidi --enable-libgme --enable-libgsm --enable-libjack --enable-libmp3lame --enable-libmysofa --enable-libopenjpeg --enable-libopenmpt --enable-libopus --enable-libpulse --enable-librabbitmq --enable-librubberband --enable-libshine --enable-libsnappy --enable-libsoxr --enable-libspeex --enable-libsrt --enable-libssh --enable-libtheora --enable-libtwolame --enable-libvidstab --enable-libvorbis --enable-libvpx --enable-libwebp --enable-libx265 --enable-libxml2 --enable-libxvid --enable-libzimg --enable-libzmq --enable-libzvbi --enable-lv2 --enable-omx --enable-openal --enable-opencl --enable-opengl --enable-sdl2 --enable-pocketsphinx --enable-librsvg --enable-libmfx --enable-libdc1394 --enable-libdrm --enable-libiec61883 --enable-chromaprint --enable-frei0r --enable-libx264 --enable-shared\n",
            "  libavutil      56. 70.100 / 56. 70.100\n",
            "  libavcodec     58.134.100 / 58.134.100\n",
            "  libavformat    58. 76.100 / 58. 76.100\n",
            "  libavdevice    58. 13.100 / 58. 13.100\n",
            "  libavfilter     7.110.100 /  7.110.100\n",
            "  libswscale      5.  9.100 /  5.  9.100\n",
            "  libswresample   3.  9.100 /  3.  9.100\n",
            "  libpostproc    55.  9.100 / 55.  9.100\n",
            "Input #0, mov,mp4,m4a,3gp,3g2,mj2, from '/content/VoiceToLipSync/sample.mp4':\n",
            "  Metadata:\n",
            "    major_brand     : mp42\n",
            "    minor_version   : 1\n",
            "    compatible_brands: isommp41mp42\n",
            "    creation_time   : 2025-01-16T08:16:01.000000Z\n",
            "  Duration: 00:00:26.73, start: 0.000000, bitrate: 6469 kb/s\n",
            "  Stream #0:0(kor): Audio: aac (LC) (mp4a / 0x6134706D), 48000 Hz, stereo, fltp, 108 kb/s (default)\n",
            "    Metadata:\n",
            "      creation_time   : 2025-01-16T08:16:01.000000Z\n",
            "      handler_name    : Core Media Audio\n",
            "      vendor_id       : [0][0][0][0]\n",
            "  Stream #0:1(und): Video: h264 (High) (avc1 / 0x31637661), yuv420p(tv, bt709, progressive), 960x540, 6342 kb/s, SAR 1:1 DAR 16:9, 29.97 fps, 29.97 tbr, 30k tbn, 60k tbc (default)\n",
            "    Metadata:\n",
            "      creation_time   : 2025-01-16T08:16:01.000000Z\n",
            "      handler_name    : Core Media Video\n",
            "      vendor_id       : [0][0][0][0]\n",
            "File './extracted_audio.mp3' already exists. Overwrite? [y/N] y\n",
            "Stream mapping:\n",
            "  Stream #0:0 -> #0:0 (aac (native) -> mp3 (libmp3lame))\n",
            "Press [q] to stop, [?] for help\n",
            "Output #0, mp3, to './extracted_audio.mp3':\n",
            "  Metadata:\n",
            "    major_brand     : mp42\n",
            "    minor_version   : 1\n",
            "    compatible_brands: isommp41mp42\n",
            "    TSSE            : Lavf58.76.100\n",
            "  Stream #0:0(kor): Audio: mp3, 48000 Hz, stereo, fltp, 192 kb/s (default)\n",
            "    Metadata:\n",
            "      creation_time   : 2025-01-16T08:16:01.000000Z\n",
            "      handler_name    : Core Media Audio\n",
            "      vendor_id       : [0][0][0][0]\n",
            "      encoder         : Lavc58.134.100 libmp3lame\n",
            "size=     628kB time=00:00:26.71 bitrate= 192.6kbits/s speed=65.1x    \n",
            "video:0kB audio:627kB subtitle:0kB other streams:0kB global headers:0kB muxing overhead: 0.111796%\n",
            "Audio extracted and saved to ./extracted_audio.mp3\n",
            "/usr/local/lib/python3.11/dist-packages/torch/nn/utils/weight_norm.py:143: FutureWarning: `torch.nn.utils.weight_norm` is deprecated in favor of `torch.nn.utils.parametrizations.weight_norm`.\n",
            "  WeightNorm.apply(module, name, dim)\n",
            "/content/VoiceToLipSync/OpenVoice/openvoice/api.py:36: FutureWarning: You are using `torch.load` with `weights_only=False` (the current default value), which uses the default pickle module implicitly. It is possible to construct malicious pickle data which will execute arbitrary code during unpickling (See https://github.com/pytorch/pytorch/blob/main/SECURITY.md#untrusted-models for more details). In a future release, the default value for `weights_only` will be flipped to `True`. This limits the functions that could be executed during unpickling. Arbitrary objects will no longer be allowed to be loaded via this mode unless they are explicitly allowlisted by the user via `torch.serialization.add_safe_globals`. We recommend you start setting `weights_only=True` for any use case where you don't have full control of the loaded file. Please open an issue on GitHub for any issues related to this experimental feature.\n",
            "  checkpoint_dict = torch.load(ckpt_path, map_location=torch.device(self.device))\n",
            "Loaded checkpoint '/content/VoiceToLipSync/checkpoints/base_speakers/EN/checkpoint.pth'\n",
            "missing/unexpected keys: [] []\n",
            "/usr/local/lib/python3.11/dist-packages/wavmark/__init__.py:16: FutureWarning: You are using `torch.load` with `weights_only=False` (the current default value), which uses the default pickle module implicitly. It is possible to construct malicious pickle data which will execute arbitrary code during unpickling (See https://github.com/pytorch/pytorch/blob/main/SECURITY.md#untrusted-models for more details). In a future release, the default value for `weights_only` will be flipped to `True`. This limits the functions that could be executed during unpickling. Arbitrary objects will no longer be allowed to be loaded via this mode unless they are explicitly allowlisted by the user via `torch.serialization.add_safe_globals`. We recommend you start setting `weights_only=True` for any use case where you don't have full control of the loaded file. Please open an issue on GitHub for any issues related to this experimental feature.\n",
            "  checkpoint = torch.load(resume_path, map_location=torch.device('cpu'))\n",
            "Loaded checkpoint '/content/VoiceToLipSync/checkpoints/converter/checkpoint.pth'\n",
            "missing/unexpected keys: [] []\n",
            "/content/VoiceToLipSync/voice2lip.py:34: FutureWarning: You are using `torch.load` with `weights_only=False` (the current default value), which uses the default pickle module implicitly. It is possible to construct malicious pickle data which will execute arbitrary code during unpickling (See https://github.com/pytorch/pytorch/blob/main/SECURITY.md#untrusted-models for more details). In a future release, the default value for `weights_only` will be flipped to `True`. This limits the functions that could be executed during unpickling. Arbitrary objects will no longer be allowed to be loaded via this mode unless they are explicitly allowlisted by the user via `torch.serialization.add_safe_globals`. We recommend you start setting `weights_only=True` for any use case where you don't have full control of the loaded file. Please open an issue on GitHub for any issues related to this experimental feature.\n",
            "  source_se = torch.load(f'{ckpt_base}/en_default_se.pth').to(device)\n",
            "OpenVoice version: v1\n",
            "[(0.0, 17.49), (18.542, 26.7293125)]\n",
            "after vad: dur = 25.677\n",
            "/usr/local/lib/python3.11/dist-packages/torch/functional.py:704: UserWarning: stft with return_complex=False is deprecated. In a future pytorch release, stft will return complex tensors for all inputs, and return_complex=False will raise an error.\n",
            "Note: you can still call torch.view_as_real on the complex output to recover the old return format. (Triggered internally at ../aten/src/ATen/native/SpectralOps.cpp:873.)\n",
            "  return _VF.stft(  # type: ignore[attr-defined]\n",
            " > Text splitted to sentences.\n",
            "Hi there! I hope you're doing well today. I just wanted to say how great it is to see your dedication and hard work.\n",
            "Keep pushing forward, and always remember that every step you take is progress.\n",
            "No matter the challenges, you're doing amazing. Take it one day at a time and trust the process.\n",
            "Keep going, you're on the right path! Let's continue to move forward and keep striving for success.\n",
            "Together, we can make incredible things happen!\n",
            " > ===========================\n",
            "haɪ ðɛɹ! aɪ hoʊp jʊɹ duɪŋ wɛɫ təˈdeɪ. aɪ dʒɪst ˈwɔntɪd tɪ seɪ haʊ gɹeɪt ɪt ɪz tɪ si jʊɹ ˌdɛdəˈkeɪʃən ənd hɑɹd wəɹk.\n",
            " length:115\n",
            " length:115\n",
            "kip ˈpʊʃɪŋ ˈfɔɹwəɹd, ənd ˈɔlˌweɪz ɹɪˈmɛmbəɹ ðət ˈɛvəɹi stɛp ju teɪk ɪz ˈpɹɑˌgɹɛs.\n",
            " length:81\n",
            " length:81\n",
            "noʊ ˈmætəɹ ðə ˈtʃæləndʒɪz, jʊɹ duɪŋ əˈmeɪzɪŋ. teɪk ɪt wən deɪ æt ə taɪm ənd tɹəst ðə ˈpɹɔˌsɛs.\n",
            " length:94\n",
            " length:94\n",
            "kip goʊɪŋ, jʊɹ ɔn ðə ɹaɪt pæθ! lɛts kənˈtɪnju tɪ muv ˈfɔɹwəɹd ənd kip ˈstɹaɪvɪŋ fəɹ səkˈsɛs.\n",
            " length:92\n",
            " length:92\n",
            "təˈgɛðəɹ, wi kən meɪk ˌɪnˈkɹɛdəbəɫ θɪŋz ˈhæpən!\n",
            " length:47\n",
            " length:47\n",
            "Generated speech saved to /content/VoiceToLipSync/outputs/output_en_default.mp3\n",
            "Using cuda for inference.\n",
            "Reading video frames...\n",
            "Number of frames available for inference: 801\n",
            "/content/VoiceToLipSync/Wav2Lip/audio.py:100: FutureWarning: Pass sr=16000, n_fft=800 as keyword args. From version 0.10 passing these as positional arguments will result in an error\n",
            "  return librosa.filters.mel(hp.sample_rate, hp.n_fft, n_mels=hp.num_mels,\n",
            "(80, 2485)\n",
            "Length of mel chunks: 927\n",
            "  0% 0/8 [00:00<?, ?it/s]/content/VoiceToLipSync/Wav2Lip/face_detection/detection/sfd/sfd_detector.py:24: FutureWarning: You are using `torch.load` with `weights_only=False` (the current default value), which uses the default pickle module implicitly. It is possible to construct malicious pickle data which will execute arbitrary code during unpickling (See https://github.com/pytorch/pytorch/blob/main/SECURITY.md#untrusted-models for more details). In a future release, the default value for `weights_only` will be flipped to `True`. This limits the functions that could be executed during unpickling. Arbitrary objects will no longer be allowed to be loaded via this mode unless they are explicitly allowlisted by the user via `torch.serialization.add_safe_globals`. We recommend you start setting `weights_only=True` for any use case where you don't have full control of the loaded file. Please open an issue on GitHub for any issues related to this experimental feature.\n",
            "  model_weights = torch.load(path_to_detector)\n",
            "\n",
            "  0% 0/51 [00:00<?, ?it/s]\u001b[A\n",
            "  2% 1/51 [00:23<19:34, 23.48s/it]\u001b[A\n",
            "  4% 2/51 [00:25<08:46, 10.74s/it]\u001b[A\n",
            "  6% 3/51 [00:27<05:22,  6.72s/it]\u001b[A\n",
            "  8% 4/51 [00:29<03:49,  4.87s/it]\u001b[A\n",
            " 10% 5/51 [00:31<03:02,  3.96s/it]\u001b[A\n",
            " 12% 6/51 [00:33<02:29,  3.32s/it]\u001b[A\n",
            " 14% 7/51 [00:35<02:05,  2.84s/it]\u001b[A\n",
            " 16% 8/51 [00:37<01:49,  2.54s/it]\u001b[A\n",
            " 18% 9/51 [00:39<01:38,  2.34s/it]\u001b[A\n",
            " 20% 10/51 [00:41<01:30,  2.21s/it]\u001b[A\n",
            " 22% 11/51 [00:43<01:23,  2.09s/it]\u001b[A\n",
            " 24% 12/51 [00:45<01:21,  2.10s/it]\u001b[A\n",
            " 25% 13/51 [00:47<01:22,  2.18s/it]\u001b[A\n",
            " 27% 14/51 [00:49<01:19,  2.16s/it]\u001b[A\n",
            " 29% 15/51 [00:51<01:15,  2.11s/it]\u001b[A\n",
            " 31% 16/51 [00:53<01:12,  2.06s/it]\u001b[A\n",
            " 33% 17/51 [00:55<01:10,  2.08s/it]\u001b[A\n",
            " 35% 18/51 [00:57<01:06,  2.02s/it]\u001b[A\n",
            " 37% 19/51 [00:59<01:06,  2.07s/it]\u001b[A\n",
            " 39% 20/51 [01:02<01:08,  2.19s/it]\u001b[A\n",
            " 41% 21/51 [01:04<01:04,  2.16s/it]\u001b[A\n",
            " 43% 22/51 [01:06<00:59,  2.06s/it]\u001b[A\n",
            " 45% 23/51 [01:08<00:55,  1.99s/it]\u001b[A\n",
            " 47% 24/51 [01:09<00:52,  1.95s/it]\u001b[A\n",
            " 49% 25/51 [01:11<00:49,  1.92s/it]\u001b[A\n",
            " 51% 26/51 [01:13<00:48,  1.93s/it]\u001b[A\n",
            " 53% 27/51 [01:15<00:48,  2.02s/it]\u001b[A\n",
            " 55% 28/51 [01:18<00:48,  2.09s/it]\u001b[A\n",
            " 57% 29/51 [01:20<00:44,  2.02s/it]\u001b[A\n",
            " 59% 30/51 [01:21<00:42,  2.00s/it]\u001b[A\n",
            " 61% 31/51 [01:23<00:39,  1.98s/it]\u001b[A\n",
            " 63% 32/51 [01:25<00:37,  1.95s/it]\u001b[A\n",
            " 65% 33/51 [01:27<00:34,  1.92s/it]\u001b[A\n",
            " 67% 34/51 [01:29<00:32,  1.93s/it]\u001b[A\n",
            " 69% 35/51 [01:31<00:31,  1.98s/it]\u001b[A\n",
            " 71% 36/51 [01:33<00:29,  1.99s/it]\u001b[A\n",
            " 73% 37/51 [01:35<00:27,  1.97s/it]\u001b[A\n",
            " 75% 38/51 [01:37<00:25,  1.94s/it]\u001b[A\n",
            " 76% 39/51 [01:39<00:22,  1.90s/it]\u001b[A\n",
            " 78% 40/51 [01:41<00:20,  1.88s/it]\u001b[A\n",
            " 80% 41/51 [01:42<00:18,  1.86s/it]\u001b[A\n",
            " 82% 42/51 [01:45<00:18,  2.02s/it]\u001b[A\n",
            " 84% 43/51 [01:47<00:16,  2.05s/it]\u001b[A\n",
            " 86% 44/51 [01:49<00:14,  2.02s/it]\u001b[A\n",
            " 88% 45/51 [01:51<00:11,  1.95s/it]\u001b[A\n",
            " 90% 46/51 [01:53<00:09,  1.91s/it]\u001b[A\n",
            " 92% 47/51 [01:54<00:07,  1.86s/it]\u001b[A\n",
            " 94% 48/51 [01:56<00:05,  1.84s/it]\u001b[A\n",
            " 96% 49/51 [01:58<00:03,  1.87s/it]\u001b[A\n",
            " 98% 50/51 [02:00<00:01,  2.00s/it]\u001b[A\n",
            "100% 51/51 [02:02<00:00,  2.41s/it]\n",
            "Load checkpoint from: /content/VoiceToLipSync/checkpoints/wav2lip.pth\n",
            "/content/VoiceToLipSync/Wav2Lip/inference.py:162: FutureWarning: You are using `torch.load` with `weights_only=False` (the current default value), which uses the default pickle module implicitly. It is possible to construct malicious pickle data which will execute arbitrary code during unpickling (See https://github.com/pytorch/pytorch/blob/main/SECURITY.md#untrusted-models for more details). In a future release, the default value for `weights_only` will be flipped to `True`. This limits the functions that could be executed during unpickling. Arbitrary objects will no longer be allowed to be loaded via this mode unless they are explicitly allowlisted by the user via `torch.serialization.add_safe_globals`. We recommend you start setting `weights_only=True` for any use case where you don't have full control of the loaded file. Please open an issue on GitHub for any issues related to this experimental feature.\n",
            "  checkpoint = torch.load(checkpoint_path)\n",
            "Model loaded\n",
            "100% 8/8 [02:23<00:00, 17.93s/it]\n",
            "ffmpeg version 4.4.2-0ubuntu0.22.04.1 Copyright (c) 2000-2021 the FFmpeg developers\n",
            "  built with gcc 11 (Ubuntu 11.2.0-19ubuntu1)\n",
            "  configuration: --prefix=/usr --extra-version=0ubuntu0.22.04.1 --toolchain=hardened --libdir=/usr/lib/x86_64-linux-gnu --incdir=/usr/include/x86_64-linux-gnu --arch=amd64 --enable-gpl --disable-stripping --enable-gnutls --enable-ladspa --enable-libaom --enable-libass --enable-libbluray --enable-libbs2b --enable-libcaca --enable-libcdio --enable-libcodec2 --enable-libdav1d --enable-libflite --enable-libfontconfig --enable-libfreetype --enable-libfribidi --enable-libgme --enable-libgsm --enable-libjack --enable-libmp3lame --enable-libmysofa --enable-libopenjpeg --enable-libopenmpt --enable-libopus --enable-libpulse --enable-librabbitmq --enable-librubberband --enable-libshine --enable-libsnappy --enable-libsoxr --enable-libspeex --enable-libsrt --enable-libssh --enable-libtheora --enable-libtwolame --enable-libvidstab --enable-libvorbis --enable-libvpx --enable-libwebp --enable-libx265 --enable-libxml2 --enable-libxvid --enable-libzimg --enable-libzmq --enable-libzvbi --enable-lv2 --enable-omx --enable-openal --enable-opencl --enable-opengl --enable-sdl2 --enable-pocketsphinx --enable-librsvg --enable-libmfx --enable-libdc1394 --enable-libdrm --enable-libiec61883 --enable-chromaprint --enable-frei0r --enable-libx264 --enable-shared\n",
            "  libavutil      56. 70.100 / 56. 70.100\n",
            "  libavcodec     58.134.100 / 58.134.100\n",
            "  libavformat    58. 76.100 / 58. 76.100\n",
            "  libavdevice    58. 13.100 / 58. 13.100\n",
            "  libavfilter     7.110.100 /  7.110.100\n",
            "  libswscale      5.  9.100 /  5.  9.100\n",
            "  libswresample   3.  9.100 /  3.  9.100\n",
            "  libpostproc    55.  9.100 / 55.  9.100\n",
            "\u001b[0;33mGuessed Channel Layout for Input Stream #0.0 : mono\n",
            "\u001b[0mInput #0, wav, from '/content/VoiceToLipSync/Wav2Lip/temp/temp.wav':\n",
            "  Metadata:\n",
            "    encoder         : Lavf58.76.100\n",
            "  Duration: 00:00:31.06, bitrate: 352 kb/s\n",
            "  Stream #0:0: Audio: pcm_s16le ([1][0][0][0] / 0x0001), 22050 Hz, mono, s16, 352 kb/s\n",
            "Input #1, avi, from '/content/VoiceToLipSync/Wav2Lip/temp/result.avi':\n",
            "  Metadata:\n",
            "    software        : Lavf59.27.100\n",
            "  Duration: 00:00:30.93, start: 0.000000, bitrate: 1068 kb/s\n",
            "  Stream #1:0: Video: mpeg4 (Simple Profile) (DIVX / 0x58564944), yuv420p, 960x540 [SAR 1:1 DAR 16:9], 1062 kb/s, 29.97 fps, 29.97 tbr, 29.97 tbn, 2997 tbc\n",
            "Stream mapping:\n",
            "  Stream #1:0 -> #0:0 (mpeg4 (native) -> h264 (libx264))\n",
            "  Stream #0:0 -> #0:1 (pcm_s16le (native) -> aac (native))\n",
            "Press [q] to stop, [?] for help\n",
            "\u001b[1;36m[libx264 @ 0x5687ff85fb00] \u001b[0m\u001b[0;33m-qscale is ignored, -crf is recommended.\n",
            "\u001b[0m\u001b[1;36m[libx264 @ 0x5687ff85fb00] \u001b[0musing SAR=1/1\n",
            "\u001b[1;36m[libx264 @ 0x5687ff85fb00] \u001b[0musing cpu capabilities: MMX2 SSE2Fast SSSE3 SSE4.2 AVX FMA3 BMI2 AVX2 AVX512\n",
            "\u001b[1;36m[libx264 @ 0x5687ff85fb00] \u001b[0mprofile High, level 3.1, 4:2:0, 8-bit\n",
            "\u001b[1;36m[libx264 @ 0x5687ff85fb00] \u001b[0m264 - core 163 r3060 5db6aa6 - H.264/MPEG-4 AVC codec - Copyleft 2003-2021 - http://www.videolan.org/x264.html - options: cabac=1 ref=3 deblock=1:0:0 analyse=0x3:0x113 me=hex subme=7 psy=1 psy_rd=1.00:0.00 mixed_ref=1 me_range=16 chroma_me=1 trellis=1 8x8dct=1 cqm=0 deadzone=21,11 fast_pskip=1 chroma_qp_offset=-2 threads=3 lookahead_threads=1 sliced_threads=0 nr=0 decimate=1 interlaced=0 bluray_compat=0 constrained_intra=0 bframes=3 b_pyramid=2 b_adapt=1 b_bias=0 direct=1 weightb=1 open_gop=0 weightp=2 keyint=250 keyint_min=25 scenecut=40 intra_refresh=0 rc_lookahead=40 rc=crf mbtree=1 crf=23.0 qcomp=0.60 qpmin=0 qpmax=69 qpstep=4 ip_ratio=1.40 aq=1:1.00\n",
            "Output #0, mp4, to '/content/VoiceToLipSync/outputs/output_lip_synced.mp4':\n",
            "  Metadata:\n",
            "    encoder         : Lavf58.76.100\n",
            "  Stream #0:0: Video: h264 (avc1 / 0x31637661), yuv420p(progressive), 960x540 [SAR 1:1 DAR 16:9], q=2-31, 29.97 fps, 30k tbn\n",
            "    Metadata:\n",
            "      encoder         : Lavc58.134.100 libx264\n",
            "    Side data:\n",
            "      cpb: bitrate max/min/avg: 0/0/0 buffer size: 0 vbv_delay: N/A\n",
            "  Stream #0:1: Audio: aac (LC) (mp4a / 0x6134706D), 22050 Hz, mono, fltp, 69 kb/s\n",
            "    Metadata:\n",
            "      encoder         : Lavc58.134.100 aac\n",
            "frame=  927 fps= 43 q=-1.0 Lsize=    2514kB time=00:00:31.02 bitrate= 663.9kbits/s speed=1.44x    \n",
            "video:2227kB audio:262kB subtitle:0kB other streams:0kB global headers:0kB muxing overhead: 0.994370%\n",
            "\u001b[1;36m[libx264 @ 0x5687ff85fb00] \u001b[0mframe I:4     Avg QP:18.40  size: 15092\n",
            "\u001b[1;36m[libx264 @ 0x5687ff85fb00] \u001b[0mframe P:490   Avg QP:21.16  size:  3729\n",
            "\u001b[1;36m[libx264 @ 0x5687ff85fb00] \u001b[0mframe B:433   Avg QP:24.39  size:   906\n",
            "\u001b[1;36m[libx264 @ 0x5687ff85fb00] \u001b[0mconsecutive B-frames: 24.9% 35.6%  8.4% 31.1%\n",
            "\u001b[1;36m[libx264 @ 0x5687ff85fb00] \u001b[0mmb I  I16..4: 26.5% 67.7%  5.8%\n",
            "\u001b[1;36m[libx264 @ 0x5687ff85fb00] \u001b[0mmb P  I16..4:  2.8%  7.6%  0.1%  P16..4: 33.6%  5.3%  2.1%  0.0%  0.0%    skip:48.4%\n",
            "\u001b[1;36m[libx264 @ 0x5687ff85fb00] \u001b[0mmb B  I16..4:  0.5%  1.5%  0.0%  B16..8: 23.2%  0.6%  0.0%  direct: 0.7%  skip:73.5%  L0:51.7% L1:46.8% BI: 1.5%\n",
            "\u001b[1;36m[libx264 @ 0x5687ff85fb00] \u001b[0m8x8 transform intra:72.5% inter:90.5%\n",
            "\u001b[1;36m[libx264 @ 0x5687ff85fb00] \u001b[0mcoded y,uvDC,uvAC intra: 33.0% 49.2% 4.3% inter: 5.0% 9.5% 0.0%\n",
            "\u001b[1;36m[libx264 @ 0x5687ff85fb00] \u001b[0mi16 v,h,dc,p: 29% 35% 16% 20%\n",
            "\u001b[1;36m[libx264 @ 0x5687ff85fb00] \u001b[0mi8 v,h,dc,ddl,ddr,vr,hd,vl,hu: 27% 25% 38%  1%  2%  1%  2%  1%  2%\n",
            "\u001b[1;36m[libx264 @ 0x5687ff85fb00] \u001b[0mi4 v,h,dc,ddl,ddr,vr,hd,vl,hu: 43% 24% 13%  2%  6%  4%  5%  2%  2%\n",
            "\u001b[1;36m[libx264 @ 0x5687ff85fb00] \u001b[0mi8c dc,h,v,p: 47% 24% 25%  4%\n",
            "\u001b[1;36m[libx264 @ 0x5687ff85fb00] \u001b[0mWeighted P-Frames: Y:2.7% UV:0.0%\n",
            "\u001b[1;36m[libx264 @ 0x5687ff85fb00] \u001b[0mref P L0: 73.7%  7.3% 14.2%  4.7%  0.1%\n",
            "\u001b[1;36m[libx264 @ 0x5687ff85fb00] \u001b[0mref B L0: 84.4% 13.6%  2.1%\n",
            "\u001b[1;36m[libx264 @ 0x5687ff85fb00] \u001b[0mref B L1: 98.6%  1.4%\n",
            "\u001b[1;36m[libx264 @ 0x5687ff85fb00] \u001b[0mkb/s:589.64\n",
            "\u001b[1;36m[aac @ 0x5687ff847880] \u001b[0mQavg: 541.057\n",
            "Lip sync completed and saved to /content/VoiceToLipSync/outputs/output_lip_synced.mp4\n"
          ]
        }
      ],
      "source": [
        "!python \"/content/VoiceToLipSync/voice2lip.py\""
      ]
    }
  ],
  "metadata": {
    "accelerator": "GPU",
    "colab": {
      "gpuType": "T4",
      "provenance": []
    },
    "kernelspec": {
      "display_name": "Python 3",
      "name": "python3"
    },
    "language_info": {
      "name": "python"
    }
  },
  "nbformat": 4,
  "nbformat_minor": 0
}

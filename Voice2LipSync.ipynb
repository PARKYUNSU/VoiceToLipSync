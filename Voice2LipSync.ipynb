{
  "cells": [
    {
      "cell_type": "code",
      "execution_count": 1,
      "metadata": {
        "colab": {
          "base_uri": "https://localhost:8080/"
        },
        "id": "4K0bG7O2A4_R",
        "outputId": "471ab72a-3833-4b8d-f90b-d32397ef2607"
      },
      "outputs": [
        {
          "name": "stdout",
          "output_type": "stream",
          "text": [
            "Cloning into 'VoiceToLipSync'...\n",
            "remote: Enumerating objects: 174, done.\u001b[K\n",
            "remote: Counting objects: 100% (174/174), done.\u001b[K\n",
            "remote: Compressing objects: 100% (145/145), done.\u001b[K\n",
            "remote: Total 174 (delta 39), reused 156 (delta 21), pack-reused 0 (from 0)\u001b[K\n",
            "Receiving objects: 100% (174/174), 3.53 MiB | 6.82 MiB/s, done.\n",
            "Resolving deltas: 100% (39/39), done.\n"
          ]
        }
      ],
      "source": [
        "!git clone https://github.com/PARKYUNSU/VoiceToLipSync"
      ]
    },
    {
      "cell_type": "code",
      "execution_count": 1,
      "metadata": {
        "colab": {
          "base_uri": "https://localhost:8080/"
        },
        "id": "NyGi7albBSlr",
        "outputId": "add665e8-c137-4f9d-b82b-048469198875"
      },
      "outputs": [
        {
          "name": "stdout",
          "output_type": "stream",
          "text": [
            "Requirement already satisfied: librosa==0.9.1 in /usr/local/lib/python3.11/dist-packages (from -r /content/VoiceToLipSync/OpenVoice/requirements.txt (line 1)) (0.9.1)\n",
            "Requirement already satisfied: faster-whisper==0.9.0 in /usr/local/lib/python3.11/dist-packages (from -r /content/VoiceToLipSync/OpenVoice/requirements.txt (line 2)) (0.9.0)\n",
            "Requirement already satisfied: pydub==0.25.1 in /usr/local/lib/python3.11/dist-packages (from -r /content/VoiceToLipSync/OpenVoice/requirements.txt (line 3)) (0.25.1)\n",
            "Requirement already satisfied: wavmark==0.0.3 in /usr/local/lib/python3.11/dist-packages (from -r /content/VoiceToLipSync/OpenVoice/requirements.txt (line 4)) (0.0.3)\n",
            "Requirement already satisfied: numpy==1.22.0 in /usr/local/lib/python3.11/dist-packages (from -r /content/VoiceToLipSync/OpenVoice/requirements.txt (line 5)) (1.22.0)\n",
            "Requirement already satisfied: eng_to_ipa==0.0.2 in /usr/local/lib/python3.11/dist-packages (from -r /content/VoiceToLipSync/OpenVoice/requirements.txt (line 6)) (0.0.2)\n",
            "Requirement already satisfied: inflect==7.0.0 in /usr/local/lib/python3.11/dist-packages (from -r /content/VoiceToLipSync/OpenVoice/requirements.txt (line 7)) (7.0.0)\n",
            "Requirement already satisfied: unidecode==1.3.7 in /usr/local/lib/python3.11/dist-packages (from -r /content/VoiceToLipSync/OpenVoice/requirements.txt (line 8)) (1.3.7)\n",
            "Requirement already satisfied: whisper-timestamped==1.14.2 in /usr/local/lib/python3.11/dist-packages (from -r /content/VoiceToLipSync/OpenVoice/requirements.txt (line 9)) (1.14.2)\n",
            "Requirement already satisfied: openai in /usr/local/lib/python3.11/dist-packages (from -r /content/VoiceToLipSync/OpenVoice/requirements.txt (line 10)) (1.59.6)\n",
            "Requirement already satisfied: python-dotenv in /usr/local/lib/python3.11/dist-packages (from -r /content/VoiceToLipSync/OpenVoice/requirements.txt (line 11)) (1.0.1)\n",
            "Requirement already satisfied: pypinyin==0.50.0 in /usr/local/lib/python3.11/dist-packages (from -r /content/VoiceToLipSync/OpenVoice/requirements.txt (line 12)) (0.50.0)\n",
            "Requirement already satisfied: cn2an==0.5.22 in /usr/local/lib/python3.11/dist-packages (from -r /content/VoiceToLipSync/OpenVoice/requirements.txt (line 13)) (0.5.22)\n",
            "Requirement already satisfied: jieba==0.42.1 in /usr/local/lib/python3.11/dist-packages (from -r /content/VoiceToLipSync/OpenVoice/requirements.txt (line 14)) (0.42.1)\n",
            "Requirement already satisfied: gradio==3.48.0 in /usr/local/lib/python3.11/dist-packages (from -r /content/VoiceToLipSync/OpenVoice/requirements.txt (line 15)) (3.48.0)\n",
            "Requirement already satisfied: langid==1.1.6 in /usr/local/lib/python3.11/dist-packages (from -r /content/VoiceToLipSync/OpenVoice/requirements.txt (line 16)) (1.1.6)\n",
            "Requirement already satisfied: audioread>=2.1.5 in /usr/local/lib/python3.11/dist-packages (from librosa==0.9.1->-r /content/VoiceToLipSync/OpenVoice/requirements.txt (line 1)) (3.0.1)\n",
            "Requirement already satisfied: scipy>=1.2.0 in /usr/local/lib/python3.11/dist-packages (from librosa==0.9.1->-r /content/VoiceToLipSync/OpenVoice/requirements.txt (line 1)) (1.11.4)\n",
            "Requirement already satisfied: scikit-learn>=0.19.1 in /usr/local/lib/python3.11/dist-packages (from librosa==0.9.1->-r /content/VoiceToLipSync/OpenVoice/requirements.txt (line 1)) (1.6.0)\n",
            "Requirement already satisfied: joblib>=0.14 in /usr/local/lib/python3.11/dist-packages (from librosa==0.9.1->-r /content/VoiceToLipSync/OpenVoice/requirements.txt (line 1)) (1.4.2)\n",
            "Requirement already satisfied: decorator>=4.0.10 in /usr/local/lib/python3.11/dist-packages (from librosa==0.9.1->-r /content/VoiceToLipSync/OpenVoice/requirements.txt (line 1)) (4.4.2)\n",
            "Requirement already satisfied: resampy>=0.2.2 in /usr/local/lib/python3.11/dist-packages (from librosa==0.9.1->-r /content/VoiceToLipSync/OpenVoice/requirements.txt (line 1)) (0.4.3)\n",
            "Requirement already satisfied: numba>=0.45.1 in /usr/local/lib/python3.11/dist-packages (from librosa==0.9.1->-r /content/VoiceToLipSync/OpenVoice/requirements.txt (line 1)) (0.60.0)\n",
            "Requirement already satisfied: soundfile>=0.10.2 in /usr/local/lib/python3.11/dist-packages (from librosa==0.9.1->-r /content/VoiceToLipSync/OpenVoice/requirements.txt (line 1)) (0.13.0)\n",
            "Requirement already satisfied: pooch>=1.0 in /usr/local/lib/python3.11/dist-packages (from librosa==0.9.1->-r /content/VoiceToLipSync/OpenVoice/requirements.txt (line 1)) (1.8.2)\n",
            "Requirement already satisfied: packaging>=20.0 in /usr/local/lib/python3.11/dist-packages (from librosa==0.9.1->-r /content/VoiceToLipSync/OpenVoice/requirements.txt (line 1)) (24.2)\n",
            "Requirement already satisfied: av==10.* in /usr/local/lib/python3.11/dist-packages (from faster-whisper==0.9.0->-r /content/VoiceToLipSync/OpenVoice/requirements.txt (line 2)) (10.0.0)\n",
            "Requirement already satisfied: ctranslate2<4,>=3.17 in /usr/local/lib/python3.11/dist-packages (from faster-whisper==0.9.0->-r /content/VoiceToLipSync/OpenVoice/requirements.txt (line 2)) (3.24.0)\n",
            "Requirement already satisfied: huggingface-hub>=0.13 in /usr/local/lib/python3.11/dist-packages (from faster-whisper==0.9.0->-r /content/VoiceToLipSync/OpenVoice/requirements.txt (line 2)) (0.17.3)\n",
            "Requirement already satisfied: tokenizers<0.15,>=0.13 in /usr/local/lib/python3.11/dist-packages (from faster-whisper==0.9.0->-r /content/VoiceToLipSync/OpenVoice/requirements.txt (line 2)) (0.14.1)\n",
            "Requirement already satisfied: onnxruntime<2,>=1.14 in /usr/local/lib/python3.11/dist-packages (from faster-whisper==0.9.0->-r /content/VoiceToLipSync/OpenVoice/requirements.txt (line 2)) (1.20.1)\n",
            "Requirement already satisfied: torch in /usr/local/lib/python3.11/dist-packages (from wavmark==0.0.3->-r /content/VoiceToLipSync/OpenVoice/requirements.txt (line 4)) (2.5.1+cu121)\n",
            "Requirement already satisfied: torchaudio in /usr/local/lib/python3.11/dist-packages (from wavmark==0.0.3->-r /content/VoiceToLipSync/OpenVoice/requirements.txt (line 4)) (2.5.1+cu121)\n",
            "Requirement already satisfied: tqdm in /usr/local/lib/python3.11/dist-packages (from wavmark==0.0.3->-r /content/VoiceToLipSync/OpenVoice/requirements.txt (line 4)) (4.67.1)\n",
            "Requirement already satisfied: pydantic>=1.9.1 in /usr/local/lib/python3.11/dist-packages (from inflect==7.0.0->-r /content/VoiceToLipSync/OpenVoice/requirements.txt (line 7)) (2.10.5)\n",
            "Requirement already satisfied: typing-extensions in /usr/local/lib/python3.11/dist-packages (from inflect==7.0.0->-r /content/VoiceToLipSync/OpenVoice/requirements.txt (line 7)) (4.12.2)\n",
            "Requirement already satisfied: Cython in /usr/local/lib/python3.11/dist-packages (from whisper-timestamped==1.14.2->-r /content/VoiceToLipSync/OpenVoice/requirements.txt (line 9)) (3.0.11)\n",
            "Requirement already satisfied: dtw-python in /usr/local/lib/python3.11/dist-packages (from whisper-timestamped==1.14.2->-r /content/VoiceToLipSync/OpenVoice/requirements.txt (line 9)) (1.4.4)\n",
            "Requirement already satisfied: openai-whisper in /usr/local/lib/python3.11/dist-packages (from whisper-timestamped==1.14.2->-r /content/VoiceToLipSync/OpenVoice/requirements.txt (line 9)) (20240930)\n",
            "Requirement already satisfied: setuptools>=47.3.1 in /usr/local/lib/python3.11/dist-packages (from cn2an==0.5.22->-r /content/VoiceToLipSync/OpenVoice/requirements.txt (line 13)) (75.1.0)\n",
            "Requirement already satisfied: proces>=0.1.3 in /usr/local/lib/python3.11/dist-packages (from cn2an==0.5.22->-r /content/VoiceToLipSync/OpenVoice/requirements.txt (line 13)) (0.1.7)\n",
            "Requirement already satisfied: aiofiles<24.0,>=22.0 in /usr/local/lib/python3.11/dist-packages (from gradio==3.48.0->-r /content/VoiceToLipSync/OpenVoice/requirements.txt (line 15)) (23.2.1)\n",
            "Requirement already satisfied: altair<6.0,>=4.2.0 in /usr/local/lib/python3.11/dist-packages (from gradio==3.48.0->-r /content/VoiceToLipSync/OpenVoice/requirements.txt (line 15)) (5.5.0)\n",
            "Requirement already satisfied: fastapi in /usr/local/lib/python3.11/dist-packages (from gradio==3.48.0->-r /content/VoiceToLipSync/OpenVoice/requirements.txt (line 15)) (0.115.6)\n",
            "Requirement already satisfied: ffmpy in /usr/local/lib/python3.11/dist-packages (from gradio==3.48.0->-r /content/VoiceToLipSync/OpenVoice/requirements.txt (line 15)) (0.5.0)\n",
            "Requirement already satisfied: gradio-client==0.6.1 in /usr/local/lib/python3.11/dist-packages (from gradio==3.48.0->-r /content/VoiceToLipSync/OpenVoice/requirements.txt (line 15)) (0.6.1)\n",
            "Requirement already satisfied: httpx in /usr/local/lib/python3.11/dist-packages (from gradio==3.48.0->-r /content/VoiceToLipSync/OpenVoice/requirements.txt (line 15)) (0.28.1)\n",
            "Requirement already satisfied: importlib-resources<7.0,>=1.3 in /usr/local/lib/python3.11/dist-packages (from gradio==3.48.0->-r /content/VoiceToLipSync/OpenVoice/requirements.txt (line 15)) (6.5.2)\n",
            "Requirement already satisfied: jinja2<4.0 in /usr/local/lib/python3.11/dist-packages (from gradio==3.48.0->-r /content/VoiceToLipSync/OpenVoice/requirements.txt (line 15)) (3.1.5)\n",
            "Requirement already satisfied: markupsafe~=2.0 in /usr/local/lib/python3.11/dist-packages (from gradio==3.48.0->-r /content/VoiceToLipSync/OpenVoice/requirements.txt (line 15)) (2.1.5)\n",
            "Requirement already satisfied: matplotlib~=3.0 in /usr/local/lib/python3.11/dist-packages (from gradio==3.48.0->-r /content/VoiceToLipSync/OpenVoice/requirements.txt (line 15)) (3.8.4)\n",
            "Requirement already satisfied: orjson~=3.0 in /usr/local/lib/python3.11/dist-packages (from gradio==3.48.0->-r /content/VoiceToLipSync/OpenVoice/requirements.txt (line 15)) (3.10.14)\n",
            "Requirement already satisfied: pandas<3.0,>=1.0 in /usr/local/lib/python3.11/dist-packages (from gradio==3.48.0->-r /content/VoiceToLipSync/OpenVoice/requirements.txt (line 15)) (1.5.1)\n",
            "Requirement already satisfied: pillow<11.0,>=8.0 in /usr/local/lib/python3.11/dist-packages (from gradio==3.48.0->-r /content/VoiceToLipSync/OpenVoice/requirements.txt (line 15)) (10.4.0)\n",
            "Requirement already satisfied: python-multipart in /usr/local/lib/python3.11/dist-packages (from gradio==3.48.0->-r /content/VoiceToLipSync/OpenVoice/requirements.txt (line 15)) (0.0.20)\n",
            "Requirement already satisfied: pyyaml<7.0,>=5.0 in /usr/local/lib/python3.11/dist-packages (from gradio==3.48.0->-r /content/VoiceToLipSync/OpenVoice/requirements.txt (line 15)) (6.0.2)\n",
            "Requirement already satisfied: requests~=2.0 in /usr/local/lib/python3.11/dist-packages (from gradio==3.48.0->-r /content/VoiceToLipSync/OpenVoice/requirements.txt (line 15)) (2.32.3)\n",
            "Requirement already satisfied: semantic-version~=2.0 in /usr/local/lib/python3.11/dist-packages (from gradio==3.48.0->-r /content/VoiceToLipSync/OpenVoice/requirements.txt (line 15)) (2.10.0)\n",
            "Requirement already satisfied: uvicorn>=0.14.0 in /usr/local/lib/python3.11/dist-packages (from gradio==3.48.0->-r /content/VoiceToLipSync/OpenVoice/requirements.txt (line 15)) (0.34.0)\n",
            "Requirement already satisfied: websockets<12.0,>=10.0 in /usr/local/lib/python3.11/dist-packages (from gradio==3.48.0->-r /content/VoiceToLipSync/OpenVoice/requirements.txt (line 15)) (11.0.3)\n",
            "Requirement already satisfied: fsspec in /usr/local/lib/python3.11/dist-packages (from gradio-client==0.6.1->gradio==3.48.0->-r /content/VoiceToLipSync/OpenVoice/requirements.txt (line 15)) (2024.10.0)\n",
            "Requirement already satisfied: anyio<5,>=3.5.0 in /usr/local/lib/python3.11/dist-packages (from openai->-r /content/VoiceToLipSync/OpenVoice/requirements.txt (line 10)) (3.7.1)\n",
            "Requirement already satisfied: distro<2,>=1.7.0 in /usr/local/lib/python3.11/dist-packages (from openai->-r /content/VoiceToLipSync/OpenVoice/requirements.txt (line 10)) (1.9.0)\n",
            "Requirement already satisfied: jiter<1,>=0.4.0 in /usr/local/lib/python3.11/dist-packages (from openai->-r /content/VoiceToLipSync/OpenVoice/requirements.txt (line 10)) (0.8.2)\n",
            "Requirement already satisfied: sniffio in /usr/local/lib/python3.11/dist-packages (from openai->-r /content/VoiceToLipSync/OpenVoice/requirements.txt (line 10)) (1.3.1)\n",
            "Requirement already satisfied: jsonschema>=3.0 in /usr/local/lib/python3.11/dist-packages (from altair<6.0,>=4.2.0->gradio==3.48.0->-r /content/VoiceToLipSync/OpenVoice/requirements.txt (line 15)) (4.23.0)\n",
            "Requirement already satisfied: narwhals>=1.14.2 in /usr/local/lib/python3.11/dist-packages (from altair<6.0,>=4.2.0->gradio==3.48.0->-r /content/VoiceToLipSync/OpenVoice/requirements.txt (line 15)) (1.21.1)\n",
            "Requirement already satisfied: idna>=2.8 in /usr/local/lib/python3.11/dist-packages (from anyio<5,>=3.5.0->openai->-r /content/VoiceToLipSync/OpenVoice/requirements.txt (line 10)) (3.10)\n",
            "Requirement already satisfied: certifi in /usr/local/lib/python3.11/dist-packages (from httpx->gradio==3.48.0->-r /content/VoiceToLipSync/OpenVoice/requirements.txt (line 15)) (2024.12.14)\n",
            "Requirement already satisfied: httpcore==1.* in /usr/local/lib/python3.11/dist-packages (from httpx->gradio==3.48.0->-r /content/VoiceToLipSync/OpenVoice/requirements.txt (line 15)) (1.0.7)\n",
            "Requirement already satisfied: h11<0.15,>=0.13 in /usr/local/lib/python3.11/dist-packages (from httpcore==1.*->httpx->gradio==3.48.0->-r /content/VoiceToLipSync/OpenVoice/requirements.txt (line 15)) (0.14.0)\n",
            "Requirement already satisfied: filelock in /usr/local/lib/python3.11/dist-packages (from huggingface-hub>=0.13->faster-whisper==0.9.0->-r /content/VoiceToLipSync/OpenVoice/requirements.txt (line 2)) (3.16.1)\n",
            "Requirement already satisfied: contourpy>=1.0.1 in /usr/local/lib/python3.11/dist-packages (from matplotlib~=3.0->gradio==3.48.0->-r /content/VoiceToLipSync/OpenVoice/requirements.txt (line 15)) (1.2.1)\n",
            "Requirement already satisfied: cycler>=0.10 in /usr/local/lib/python3.11/dist-packages (from matplotlib~=3.0->gradio==3.48.0->-r /content/VoiceToLipSync/OpenVoice/requirements.txt (line 15)) (0.12.1)\n",
            "Requirement already satisfied: fonttools>=4.22.0 in /usr/local/lib/python3.11/dist-packages (from matplotlib~=3.0->gradio==3.48.0->-r /content/VoiceToLipSync/OpenVoice/requirements.txt (line 15)) (4.55.3)\n",
            "Requirement already satisfied: kiwisolver>=1.3.1 in /usr/local/lib/python3.11/dist-packages (from matplotlib~=3.0->gradio==3.48.0->-r /content/VoiceToLipSync/OpenVoice/requirements.txt (line 15)) (1.4.8)\n",
            "Requirement already satisfied: pyparsing>=2.3.1 in /usr/local/lib/python3.11/dist-packages (from matplotlib~=3.0->gradio==3.48.0->-r /content/VoiceToLipSync/OpenVoice/requirements.txt (line 15)) (3.2.1)\n",
            "Requirement already satisfied: python-dateutil>=2.7 in /usr/local/lib/python3.11/dist-packages (from matplotlib~=3.0->gradio==3.48.0->-r /content/VoiceToLipSync/OpenVoice/requirements.txt (line 15)) (2.8.2)\n",
            "Requirement already satisfied: llvmlite<0.44,>=0.43.0dev0 in /usr/local/lib/python3.11/dist-packages (from numba>=0.45.1->librosa==0.9.1->-r /content/VoiceToLipSync/OpenVoice/requirements.txt (line 1)) (0.43.0)\n",
            "Requirement already satisfied: coloredlogs in /usr/local/lib/python3.11/dist-packages (from onnxruntime<2,>=1.14->faster-whisper==0.9.0->-r /content/VoiceToLipSync/OpenVoice/requirements.txt (line 2)) (15.0.1)\n",
            "Requirement already satisfied: flatbuffers in /usr/local/lib/python3.11/dist-packages (from onnxruntime<2,>=1.14->faster-whisper==0.9.0->-r /content/VoiceToLipSync/OpenVoice/requirements.txt (line 2)) (24.12.23)\n",
            "Requirement already satisfied: protobuf in /usr/local/lib/python3.11/dist-packages (from onnxruntime<2,>=1.14->faster-whisper==0.9.0->-r /content/VoiceToLipSync/OpenVoice/requirements.txt (line 2)) (4.25.5)\n",
            "Requirement already satisfied: sympy in /usr/local/lib/python3.11/dist-packages (from onnxruntime<2,>=1.14->faster-whisper==0.9.0->-r /content/VoiceToLipSync/OpenVoice/requirements.txt (line 2)) (1.13.1)\n",
            "Requirement already satisfied: pytz>=2020.1 in /usr/local/lib/python3.11/dist-packages (from pandas<3.0,>=1.0->gradio==3.48.0->-r /content/VoiceToLipSync/OpenVoice/requirements.txt (line 15)) (2024.2)\n",
            "Requirement already satisfied: platformdirs>=2.5.0 in /usr/local/lib/python3.11/dist-packages (from pooch>=1.0->librosa==0.9.1->-r /content/VoiceToLipSync/OpenVoice/requirements.txt (line 1)) (4.3.6)\n",
            "Requirement already satisfied: annotated-types>=0.6.0 in /usr/local/lib/python3.11/dist-packages (from pydantic>=1.9.1->inflect==7.0.0->-r /content/VoiceToLipSync/OpenVoice/requirements.txt (line 7)) (0.7.0)\n",
            "Requirement already satisfied: pydantic-core==2.27.2 in /usr/local/lib/python3.11/dist-packages (from pydantic>=1.9.1->inflect==7.0.0->-r /content/VoiceToLipSync/OpenVoice/requirements.txt (line 7)) (2.27.2)\n",
            "Requirement already satisfied: charset-normalizer<4,>=2 in /usr/local/lib/python3.11/dist-packages (from requests~=2.0->gradio==3.48.0->-r /content/VoiceToLipSync/OpenVoice/requirements.txt (line 15)) (3.4.1)\n",
            "Requirement already satisfied: urllib3<3,>=1.21.1 in /usr/local/lib/python3.11/dist-packages (from requests~=2.0->gradio==3.48.0->-r /content/VoiceToLipSync/OpenVoice/requirements.txt (line 15)) (2.3.0)\n",
            "Requirement already satisfied: threadpoolctl>=3.1.0 in /usr/local/lib/python3.11/dist-packages (from scikit-learn>=0.19.1->librosa==0.9.1->-r /content/VoiceToLipSync/OpenVoice/requirements.txt (line 1)) (3.5.0)\n",
            "Requirement already satisfied: cffi>=1.0 in /usr/local/lib/python3.11/dist-packages (from soundfile>=0.10.2->librosa==0.9.1->-r /content/VoiceToLipSync/OpenVoice/requirements.txt (line 1)) (1.17.1)\n",
            "Requirement already satisfied: click>=7.0 in /usr/local/lib/python3.11/dist-packages (from uvicorn>=0.14.0->gradio==3.48.0->-r /content/VoiceToLipSync/OpenVoice/requirements.txt (line 15)) (8.1.8)\n",
            "Requirement already satisfied: starlette<0.42.0,>=0.40.0 in /usr/local/lib/python3.11/dist-packages (from fastapi->gradio==3.48.0->-r /content/VoiceToLipSync/OpenVoice/requirements.txt (line 15)) (0.41.3)\n",
            "Requirement already satisfied: more-itertools in /usr/local/lib/python3.11/dist-packages (from openai-whisper->whisper-timestamped==1.14.2->-r /content/VoiceToLipSync/OpenVoice/requirements.txt (line 9)) (10.5.0)\n",
            "Requirement already satisfied: tiktoken in /usr/local/lib/python3.11/dist-packages (from openai-whisper->whisper-timestamped==1.14.2->-r /content/VoiceToLipSync/OpenVoice/requirements.txt (line 9)) (0.8.0)\n",
            "Requirement already satisfied: triton>=2.0.0 in /usr/local/lib/python3.11/dist-packages (from openai-whisper->whisper-timestamped==1.14.2->-r /content/VoiceToLipSync/OpenVoice/requirements.txt (line 9)) (3.1.0)\n",
            "Requirement already satisfied: networkx in /usr/local/lib/python3.11/dist-packages (from torch->wavmark==0.0.3->-r /content/VoiceToLipSync/OpenVoice/requirements.txt (line 4)) (3.4.2)\n",
            "Requirement already satisfied: nvidia-cuda-nvrtc-cu12==12.1.105 in /usr/local/lib/python3.11/dist-packages (from torch->wavmark==0.0.3->-r /content/VoiceToLipSync/OpenVoice/requirements.txt (line 4)) (12.1.105)\n",
            "Requirement already satisfied: nvidia-cuda-runtime-cu12==12.1.105 in /usr/local/lib/python3.11/dist-packages (from torch->wavmark==0.0.3->-r /content/VoiceToLipSync/OpenVoice/requirements.txt (line 4)) (12.1.105)\n",
            "Requirement already satisfied: nvidia-cuda-cupti-cu12==12.1.105 in /usr/local/lib/python3.11/dist-packages (from torch->wavmark==0.0.3->-r /content/VoiceToLipSync/OpenVoice/requirements.txt (line 4)) (12.1.105)\n",
            "Requirement already satisfied: nvidia-cudnn-cu12==9.1.0.70 in /usr/local/lib/python3.11/dist-packages (from torch->wavmark==0.0.3->-r /content/VoiceToLipSync/OpenVoice/requirements.txt (line 4)) (9.1.0.70)\n",
            "Requirement already satisfied: nvidia-cublas-cu12==12.1.3.1 in /usr/local/lib/python3.11/dist-packages (from torch->wavmark==0.0.3->-r /content/VoiceToLipSync/OpenVoice/requirements.txt (line 4)) (12.1.3.1)\n",
            "Requirement already satisfied: nvidia-cufft-cu12==11.0.2.54 in /usr/local/lib/python3.11/dist-packages (from torch->wavmark==0.0.3->-r /content/VoiceToLipSync/OpenVoice/requirements.txt (line 4)) (11.0.2.54)\n",
            "Requirement already satisfied: nvidia-curand-cu12==10.3.2.106 in /usr/local/lib/python3.11/dist-packages (from torch->wavmark==0.0.3->-r /content/VoiceToLipSync/OpenVoice/requirements.txt (line 4)) (10.3.2.106)\n",
            "Requirement already satisfied: nvidia-cusolver-cu12==11.4.5.107 in /usr/local/lib/python3.11/dist-packages (from torch->wavmark==0.0.3->-r /content/VoiceToLipSync/OpenVoice/requirements.txt (line 4)) (11.4.5.107)\n",
            "Requirement already satisfied: nvidia-cusparse-cu12==12.1.0.106 in /usr/local/lib/python3.11/dist-packages (from torch->wavmark==0.0.3->-r /content/VoiceToLipSync/OpenVoice/requirements.txt (line 4)) (12.1.0.106)\n",
            "Requirement already satisfied: nvidia-nccl-cu12==2.21.5 in /usr/local/lib/python3.11/dist-packages (from torch->wavmark==0.0.3->-r /content/VoiceToLipSync/OpenVoice/requirements.txt (line 4)) (2.21.5)\n",
            "Requirement already satisfied: nvidia-nvtx-cu12==12.1.105 in /usr/local/lib/python3.11/dist-packages (from torch->wavmark==0.0.3->-r /content/VoiceToLipSync/OpenVoice/requirements.txt (line 4)) (12.1.105)\n",
            "Requirement already satisfied: nvidia-nvjitlink-cu12 in /usr/local/lib/python3.11/dist-packages (from nvidia-cusolver-cu12==11.4.5.107->torch->wavmark==0.0.3->-r /content/VoiceToLipSync/OpenVoice/requirements.txt (line 4)) (12.6.85)\n",
            "Requirement already satisfied: mpmath<1.4,>=1.1.0 in /usr/local/lib/python3.11/dist-packages (from sympy->onnxruntime<2,>=1.14->faster-whisper==0.9.0->-r /content/VoiceToLipSync/OpenVoice/requirements.txt (line 2)) (1.3.0)\n",
            "Requirement already satisfied: pycparser in /usr/local/lib/python3.11/dist-packages (from cffi>=1.0->soundfile>=0.10.2->librosa==0.9.1->-r /content/VoiceToLipSync/OpenVoice/requirements.txt (line 1)) (2.22)\n",
            "Requirement already satisfied: attrs>=22.2.0 in /usr/local/lib/python3.11/dist-packages (from jsonschema>=3.0->altair<6.0,>=4.2.0->gradio==3.48.0->-r /content/VoiceToLipSync/OpenVoice/requirements.txt (line 15)) (24.3.0)\n",
            "Requirement already satisfied: jsonschema-specifications>=2023.03.6 in /usr/local/lib/python3.11/dist-packages (from jsonschema>=3.0->altair<6.0,>=4.2.0->gradio==3.48.0->-r /content/VoiceToLipSync/OpenVoice/requirements.txt (line 15)) (2024.10.1)\n",
            "Requirement already satisfied: referencing>=0.28.4 in /usr/local/lib/python3.11/dist-packages (from jsonschema>=3.0->altair<6.0,>=4.2.0->gradio==3.48.0->-r /content/VoiceToLipSync/OpenVoice/requirements.txt (line 15)) (0.35.1)\n",
            "Requirement already satisfied: rpds-py>=0.7.1 in /usr/local/lib/python3.11/dist-packages (from jsonschema>=3.0->altair<6.0,>=4.2.0->gradio==3.48.0->-r /content/VoiceToLipSync/OpenVoice/requirements.txt (line 15)) (0.22.3)\n",
            "Requirement already satisfied: six>=1.5 in /usr/local/lib/python3.11/dist-packages (from python-dateutil>=2.7->matplotlib~=3.0->gradio==3.48.0->-r /content/VoiceToLipSync/OpenVoice/requirements.txt (line 15)) (1.17.0)\n",
            "Requirement already satisfied: humanfriendly>=9.1 in /usr/local/lib/python3.11/dist-packages (from coloredlogs->onnxruntime<2,>=1.14->faster-whisper==0.9.0->-r /content/VoiceToLipSync/OpenVoice/requirements.txt (line 2)) (10.0)\n",
            "Requirement already satisfied: regex>=2022.1.18 in /usr/local/lib/python3.11/dist-packages (from tiktoken->openai-whisper->whisper-timestamped==1.14.2->-r /content/VoiceToLipSync/OpenVoice/requirements.txt (line 9)) (2024.11.6)\n"
          ]
        }
      ],
      "source": [
        "!pip install -r \"/content/VoiceToLipSync/OpenVoice/requirements.txt\""
      ]
    },
    {
      "cell_type": "code",
      "execution_count": 2,
      "metadata": {
        "colab": {
          "base_uri": "https://localhost:8080/"
        },
        "id": "stPMq0MaCsjV",
        "outputId": "6c29c4a7-3ed8-439c-b234-407c6e797e34"
      },
      "outputs": [
        {
          "name": "stdout",
          "output_type": "stream",
          "text": [
            "Collecting librosa==0.7.0 (from -r /content/VoiceToLipSync/Wav2Lip/requirements.txt (line 1))\n",
            "  Using cached librosa-0.7.0.tar.gz (1.6 MB)\n",
            "  Preparing metadata (setup.py) ... \u001b[?25l\u001b[?25hdone\n",
            "Collecting numpy==1.17.1 (from -r /content/VoiceToLipSync/Wav2Lip/requirements.txt (line 2))\n",
            "  Using cached numpy-1.17.1.zip (6.5 MB)\n",
            "  Preparing metadata (setup.py) ... \u001b[?25l\u001b[?25hdone\n",
            "Requirement already satisfied: opencv-contrib-python>=4.2.0.34 in /usr/local/lib/python3.11/dist-packages (from -r /content/VoiceToLipSync/Wav2Lip/requirements.txt (line 3)) (4.10.0.84)\n",
            "Collecting opencv-python==4.5.1.48 (from -r /content/VoiceToLipSync/Wav2Lip/requirements.txt (line 4))\n",
            "  Using cached opencv-python-4.5.1.48.tar.gz (88.3 MB)\n",
            "  \u001b[1;31merror\u001b[0m: \u001b[1msubprocess-exited-with-error\u001b[0m\n",
            "  \n",
            "  \u001b[31m×\u001b[0m \u001b[32mpip subprocess to install build dependencies\u001b[0m did not run successfully.\n",
            "  \u001b[31m│\u001b[0m exit code: \u001b[1;36m1\u001b[0m\n",
            "  \u001b[31m╰─>\u001b[0m See above for output.\n",
            "  \n",
            "  \u001b[1;35mnote\u001b[0m: This error originates from a subprocess, and is likely not a problem with pip.\n",
            "  Installing build dependencies ... \u001b[?25l\u001b[?25herror\n",
            "\u001b[1;31merror\u001b[0m: \u001b[1msubprocess-exited-with-error\u001b[0m\n",
            "\n",
            "\u001b[31m×\u001b[0m \u001b[32mpip subprocess to install build dependencies\u001b[0m did not run successfully.\n",
            "\u001b[31m│\u001b[0m exit code: \u001b[1;36m1\u001b[0m\n",
            "\u001b[31m╰─>\u001b[0m See above for output.\n",
            "\n",
            "\u001b[1;35mnote\u001b[0m: This error originates from a subprocess, and is likely not a problem with pip.\n"
          ]
        }
      ],
      "source": [
        "!pip install -r \"/content/VoiceToLipSync/Wav2Lip/requirements.txt\""
      ]
    },
    {
      "cell_type": "code",
      "execution_count": 1,
      "metadata": {
        "colab": {
          "base_uri": "https://localhost:8080/"
        },
        "id": "0QNL_0OeEORJ",
        "outputId": "902fe3db-5fad-4c79-cca0-659e87e5f5a5"
      },
      "outputs": [
        {
          "name": "stdout",
          "output_type": "stream",
          "text": [
            "Requirement already satisfied: numpy==1.23.5 in /usr/local/lib/python3.11/dist-packages (1.23.5)\n"
          ]
        }
      ],
      "source": [
        "!pip install numpy==1.23.5\n",
        "# !pip uninstall scipy librosa\n",
        "# !pip install scipy librosa"
      ]
    },
    {
      "cell_type": "code",
      "execution_count": 2,
      "metadata": {
        "colab": {
          "base_uri": "https://localhost:8080/"
        },
        "id": "ulDezrm3IPnY",
        "outputId": "fa96e194-9067-4c1e-f19a-91f61f646ec5"
      },
      "outputs": [
        {
          "name": "stderr",
          "output_type": "stream",
          "text": [
            "Downloading...\n",
            "From (original): https://drive.google.com/uc?id=1j4O3fkpxcRtSAR6WQiZ6CokUnLHPG5Hm\n",
            "From (redirected): https://drive.google.com/uc?id=1j4O3fkpxcRtSAR6WQiZ6CokUnLHPG5Hm&confirm=t&uuid=9cd5a822-86a5-41d9-a8b1-4df75cf68655\n",
            "To: /content/VoiceToLipSync/checkpoints.zip\n",
            "100%|██████████| 772M/772M [00:07<00:00, 99.5MB/s]\n"
          ]
        },
        {
          "name": "stdout",
          "output_type": "stream",
          "text": [
            "압축 풀기 완료\n"
          ]
        }
      ],
      "source": [
        "import gdown\n",
        "import zipfile\n",
        "import os\n",
        "\n",
        "file_id = '1j4O3fkpxcRtSAR6WQiZ6CokUnLHPG5Hm'\n",
        "output_path = '/content/VoiceToLipSync/checkpoints.zip'\n",
        "gdown.download(f'https://drive.google.com/uc?id={file_id}', output=output_path, quiet=False)\n",
        "extract_path = '/content/VoiceToLipSync/'\n",
        "\n",
        "with zipfile.ZipFile(output_path, 'r') as zip_ref:\n",
        "    zip_ref.extractall(extract_path)\n",
        "\n",
        "print(\"Done\")"
      ]
    },
    {
      "cell_type": "code",
      "execution_count": 3,
      "metadata": {
        "colab": {
          "base_uri": "https://localhost:8080/"
        },
        "id": "Um1PjAB8Vuao",
        "outputId": "2a3c0836-9991-4637-fd75-0d6876d3c29e"
      },
      "outputs": [
        {
          "name": "stderr",
          "output_type": "stream",
          "text": [
            "Downloading...\n",
            "From: https://drive.google.com/uc?export=download&id=1i4XlwVIa4NZUZVJUB7tuP_SSuMfm78HM\n",
            "To: /content/VoiceToLipSync/Wav2Lip/face_detection/detection/sfd/s3fd.pth\n",
            "100%|██████████| 89.8M/89.8M [00:02<00:00, 32.6MB/s]"
          ]
        },
        {
          "name": "stdout",
          "output_type": "stream",
          "text": [
            "File downloaded and saved to /content/VoiceToLipSync/Wav2Lip/face_detection/detection/sfd/s3fd.pth\n"
          ]
        },
        {
          "name": "stderr",
          "output_type": "stream",
          "text": [
            "\n"
          ]
        }
      ],
      "source": [
        "import gdown\n",
        "import os\n",
        "\n",
        "file_id = '1i4XlwVIa4NZUZVJUB7tuP_SSuMfm78HM'\n",
        "url = f'https://drive.google.com/uc?export=download&id={file_id}'\n",
        "output_dir = '/content/VoiceToLipSync/Wav2Lip/face_detection/detection/sfd'\n",
        "os.makedirs(output_dir, exist_ok=True)\n",
        "\n",
        "output_path = os.path.join(output_dir, 's3fd.pth')\n",
        "gdown.download(url, output_path, quiet=False)\n",
        "\n",
        "print(f\"File downloaded and saved to {output_path}\")"
      ]
    },
    {
      "cell_type": "markdown",
      "metadata": {},
      "source": [
        "# Sample Video\n",
        "Upload the sample video you want to aplly!"
      ]
    },
    {
      "cell_type": "code",
      "execution_count": null,
      "metadata": {},
      "outputs": [],
      "source": [
        "import os\n",
        "import shutil\n",
        "from google.colab import files\n",
        "\n",
        "input_dir = '/content/VoiceToLipSync'\n",
        "uploaded = files.upload()\n",
        "for filename in uploaded.keys():\n",
        "  input_path = os.path.join(input_dir, filename)\n",
        "  shutil.move(filename, input_path)\n",
        "os.rename(input_path, input_dir+'/sample.mp4')"
      ]
    },
    {
      "cell_type": "markdown",
      "metadata": {},
      "source": [
        "# Text & Speeching Speed\n",
        "\n",
        "Type the text you want to apply on Video, and set the desired speech speed.  \n",
        "For example:  \n",
        "- **1.0** for normal speed  \n",
        "- **>1.0** for faster speech  \n",
        "- **<1.0** for slower speech"
      ]
    },
    {
      "cell_type": "code",
      "execution_count": null,
      "metadata": {},
      "outputs": [],
      "source": [
        "import os\n",
        "\n",
        "# Text\n",
        "os.environ[\"VOICE2LIP_TEXT\"] = \"\"\"Hi there!  \n",
        "I hope you're doing well today.  \n",
        "I just wanted to say – how great it is to see your dedication, and your hard work.  \n",
        "Keep pushing forward, and always remember: every step you take is progress.  \n",
        "No matter the challenges, you’re doing amazing.  \n",
        "Take it one day at a time, and trust the process.  \n",
        "Keep going – you're on the right path!  \n",
        "Let's continue to move forward, and keep striving for success.  \n",
        "Together, we can make incredible things happen!\"\"\"\n",
        "\n",
        "# Speeching Speed\n",
        "os.environ[\"VOICE2LIP_SPEED\"] = \"1.2\"\n",
        "\n",
        "# Run Python\n",
        "!python \"/content/VoiceToLipSync/voice2lip.py\"\n"
      ]
    }
  ],
  "metadata": {
    "accelerator": "GPU",
    "colab": {
      "gpuType": "T4",
      "provenance": []
    },
    "kernelspec": {
      "display_name": "Python 3",
      "name": "python3"
    },
    "language_info": {
      "name": "python"
    }
  },
  "nbformat": 4,
  "nbformat_minor": 0
}

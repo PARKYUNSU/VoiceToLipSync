{
 "cells": [
  {
   "cell_type": "markdown",
   "id": "b6ee1ede",
   "metadata": {},
   "source": [
    "## Voice Style Control Demo"
   ]
  },
  {
   "cell_type": "code",
   "execution_count": 1,
   "id": "b7f043ee",
   "metadata": {},
   "outputs": [
    {
     "name": "stderr",
     "output_type": "stream",
     "text": [
      "/Users/parkyunsu/anaconda3/envs/openvoice/lib/python3.10/site-packages/tqdm/auto.py:21: TqdmWarning: IProgress not found. Please update jupyter and ipywidgets. See https://ipywidgets.readthedocs.io/en/stable/user_install.html\n",
      "  from .autonotebook import tqdm as notebook_tqdm\n"
     ]
    },
    {
     "name": "stdout",
     "output_type": "stream",
     "text": [
      "Importing the dtw module. When using in academic works please cite:\n",
      "  T. Giorgino. Computing and Visualizing Dynamic Time Warping Alignments in R: The dtw Package.\n",
      "  J. Stat. Soft., doi:10.18637/jss.v031.i07.\n",
      "\n"
     ]
    }
   ],
   "source": [
    "import os\n",
    "import torch\n",
    "from openvoice import se_extractor\n",
    "from openvoice.api import BaseSpeakerTTS, ToneColorConverter"
   ]
  },
  {
   "cell_type": "markdown",
   "id": "15116b59",
   "metadata": {},
   "source": [
    "### Initialization"
   ]
  },
  {
   "cell_type": "code",
   "execution_count": 11,
   "id": "aacad912",
   "metadata": {},
   "outputs": [
    {
     "name": "stderr",
     "output_type": "stream",
     "text": [
      "/Users/parkyunsu/anaconda3/envs/openvoice/lib/python3.10/site-packages/torch/nn/utils/weight_norm.py:143: FutureWarning: `torch.nn.utils.weight_norm` is deprecated in favor of `torch.nn.utils.parametrizations.weight_norm`.\n",
      "  WeightNorm.apply(module, name, dim)\n",
      "/Users/parkyunsu/project/VoiceToLipSync/OpenVoice/openvoice/api.py:36: FutureWarning: You are using `torch.load` with `weights_only=False` (the current default value), which uses the default pickle module implicitly. It is possible to construct malicious pickle data which will execute arbitrary code during unpickling (See https://github.com/pytorch/pytorch/blob/main/SECURITY.md#untrusted-models for more details). In a future release, the default value for `weights_only` will be flipped to `True`. This limits the functions that could be executed during unpickling. Arbitrary objects will no longer be allowed to be loaded via this mode unless they are explicitly allowlisted by the user via `torch.serialization.add_safe_globals`. We recommend you start setting `weights_only=True` for any use case where you don't have full control of the loaded file. Please open an issue on GitHub for any issues related to this experimental feature.\n",
      "  checkpoint_dict = torch.load(ckpt_path, map_location=torch.device(self.device))\n"
     ]
    },
    {
     "name": "stdout",
     "output_type": "stream",
     "text": [
      "Loaded checkpoint '/Users/parkyunsu/project/VoiceToLipSync/checkpoints/base_speakers/EN/checkpoint.pth'\n",
      "missing/unexpected keys: [] []\n",
      "Loaded checkpoint '/Users/parkyunsu/project/VoiceToLipSync/checkpoints/converter/checkpoint.pth'\n",
      "missing/unexpected keys: [] []\n"
     ]
    },
    {
     "name": "stderr",
     "output_type": "stream",
     "text": [
      "/Users/parkyunsu/anaconda3/envs/openvoice/lib/python3.10/site-packages/wavmark/__init__.py:16: FutureWarning: You are using `torch.load` with `weights_only=False` (the current default value), which uses the default pickle module implicitly. It is possible to construct malicious pickle data which will execute arbitrary code during unpickling (See https://github.com/pytorch/pytorch/blob/main/SECURITY.md#untrusted-models for more details). In a future release, the default value for `weights_only` will be flipped to `True`. This limits the functions that could be executed during unpickling. Arbitrary objects will no longer be allowed to be loaded via this mode unless they are explicitly allowlisted by the user via `torch.serialization.add_safe_globals`. We recommend you start setting `weights_only=True` for any use case where you don't have full control of the loaded file. Please open an issue on GitHub for any issues related to this experimental feature.\n",
      "  checkpoint = torch.load(resume_path, map_location=torch.device('cpu'))\n"
     ]
    }
   ],
   "source": [
    "ckpt_base = '/Users/parkyunsu/project/VoiceToLipSync/checkpoints/base_speakers/EN'\n",
    "ckpt_converter = '/Users/parkyunsu/project/VoiceToLipSync/checkpoints/converter'\n",
    "# device=\"cuda:0\" if torch.cuda.is_available() else \"cpu\"\n",
    "device = 'cpu'\n",
    "output_dir = 'outputs'\n",
    "\n",
    "base_speaker_tts = BaseSpeakerTTS(f'{ckpt_base}/config.json', device=device)\n",
    "base_speaker_tts.load_ckpt(f'{ckpt_base}/checkpoint.pth')\n",
    "\n",
    "tone_color_converter = ToneColorConverter(f'{ckpt_converter}/config.json', device=device)\n",
    "tone_color_converter.load_ckpt(f'{ckpt_converter}/checkpoint.pth')\n",
    "\n",
    "os.makedirs(output_dir, exist_ok=True)"
   ]
  },
  {
   "cell_type": "markdown",
   "id": "7f67740c",
   "metadata": {},
   "source": [
    "### Obtain Tone Color Embedding"
   ]
  },
  {
   "cell_type": "markdown",
   "id": "f8add279",
   "metadata": {},
   "source": [
    "The `source_se` is the tone color embedding of the base speaker. \n",
    "It is an average of multiple sentences generated by the base speaker. We directly provide the result here but\n",
    "the readers feel free to extract `source_se` by themselves."
   ]
  },
  {
   "cell_type": "code",
   "execution_count": 12,
   "id": "63ff6273",
   "metadata": {},
   "outputs": [
    {
     "name": "stderr",
     "output_type": "stream",
     "text": [
      "/var/folders/5x/8_5m_9v57bz_btfk508ff3hc0000gn/T/ipykernel_11186/65652984.py:1: FutureWarning: You are using `torch.load` with `weights_only=False` (the current default value), which uses the default pickle module implicitly. It is possible to construct malicious pickle data which will execute arbitrary code during unpickling (See https://github.com/pytorch/pytorch/blob/main/SECURITY.md#untrusted-models for more details). In a future release, the default value for `weights_only` will be flipped to `True`. This limits the functions that could be executed during unpickling. Arbitrary objects will no longer be allowed to be loaded via this mode unless they are explicitly allowlisted by the user via `torch.serialization.add_safe_globals`. We recommend you start setting `weights_only=True` for any use case where you don't have full control of the loaded file. Please open an issue on GitHub for any issues related to this experimental feature.\n",
      "  source_se = torch.load(f'{ckpt_base}/en_default_se.pth').to(device)\n"
     ]
    }
   ],
   "source": [
    "source_se = torch.load(f'{ckpt_base}/en_default_se.pth').to(device)"
   ]
  },
  {
   "cell_type": "markdown",
   "id": "4f71fcc3",
   "metadata": {},
   "source": [
    "The `reference_speaker.mp3` below points to the short audio clip of the reference whose voice we want to clone. We provide an example here. If you use your own reference speakers, please **make sure each speaker has a unique filename.** The `se_extractor` will save the `targeted_se` using the filename of the audio and **will not automatically overwrite.**"
   ]
  },
  {
   "cell_type": "code",
   "execution_count": 14,
   "id": "55105eae",
   "metadata": {},
   "outputs": [
    {
     "name": "stdout",
     "output_type": "stream",
     "text": [
      "OpenVoice version: v1\n",
      "[(0.0, 17.49), (18.542, 26.7293125)]\n",
      "after vad: dur = 25.677\n"
     ]
    },
    {
     "name": "stderr",
     "output_type": "stream",
     "text": [
      "/Users/parkyunsu/anaconda3/envs/openvoice/lib/python3.10/site-packages/torch/functional.py:704: UserWarning: stft with return_complex=False is deprecated. In a future pytorch release, stft will return complex tensors for all inputs, and return_complex=False will raise an error.\n",
      "Note: you can still call torch.view_as_real on the complex output to recover the old return format. (Triggered internally at /Users/runner/work/pytorch/pytorch/pytorch/aten/src/ATen/native/SpectralOps.cpp:878.)\n",
      "  return _VF.stft(  # type: ignore[attr-defined]\n"
     ]
    }
   ],
   "source": [
    "reference_speaker = '/Users/parkyunsu/project/VoiceToLipSync/OpenVoice/resources/sample.mp3' # This is the voice you want to clone\n",
    "target_se, audio_name = se_extractor.get_se(reference_speaker, tone_color_converter, target_dir='processed', vad=True)"
   ]
  },
  {
   "cell_type": "markdown",
   "id": "a40284aa",
   "metadata": {},
   "source": [
    "### Inference"
   ]
  },
  {
   "cell_type": "code",
   "execution_count": 15,
   "id": "73dc1259",
   "metadata": {},
   "outputs": [
    {
     "name": "stdout",
     "output_type": "stream",
     "text": [
      " > Text splitted to sentences.\n",
      "Hi there! I hope you're doing well today. I just wanted to say how great it is to see your dedication and hard work.\n",
      "Keep pushing forward, and always remember that every step you take is progress.\n",
      "No matter the challenges, you're doing amazing. Take it one day at a time and trust the process.\n",
      "Keep going, you're on the right path! Let's continue to move forward and keep striving for success.\n",
      "Together, we can make incredible things happen!\n",
      " > ===========================\n",
      "haɪ ðɛɹ! aɪ hoʊp jʊɹ duɪŋ wɛɫ təˈdeɪ. aɪ dʒɪst ˈwɔntɪd tɪ seɪ haʊ gɹeɪt ɪt ɪz tɪ si jʊɹ ˌdɛdəˈkeɪʃən ənd hɑɹd wəɹk.\n",
      " length:115\n",
      " length:115\n",
      "kip ˈpʊʃɪŋ ˈfɔɹwəɹd, ənd ˈɔlˌweɪz ɹɪˈmɛmbəɹ ðət ˈɛvəɹi stɛp ju teɪk ɪz ˈpɹɑˌgɹɛs.\n",
      " length:81\n",
      " length:81\n",
      "noʊ ˈmætəɹ ðə ˈtʃæləndʒɪz, jʊɹ duɪŋ əˈmeɪzɪŋ. teɪk ɪt wən deɪ æt ə taɪm ənd tɹəst ðə ˈpɹɔˌsɛs.\n",
      " length:94\n",
      " length:94\n",
      "kip goʊɪŋ, jʊɹ ɔn ðə ɹaɪt pæθ! lɛts kənˈtɪnju tɪ muv ˈfɔɹwəɹd ənd kip ˈstɹaɪvɪŋ fəɹ səkˈsɛs.\n",
      " length:92\n",
      " length:92\n",
      "təˈgɛðəɹ, wi kən meɪk ˌɪnˈkɹɛdəbəɫ θɪŋz ˈhæpən!\n",
      " length:47\n",
      " length:47\n"
     ]
    }
   ],
   "source": [
    "save_path = f'{output_dir}/output_en_default.wav'\n",
    "\n",
    "# Run the base speaker tts\n",
    "text = \"Hi there! I hope you're doing well today. I just wanted to say how great it is to see your dedication and hard work. Keep pushing forward, and always remember that every step you take is progress. No matter the challenges, you’re doing amazing. Take it one day at a time and trust the process. Keep going, you're on the right path! Let's continue to move forward and keep striving for success. Together, we can make incredible things happen!\"\n",
    "src_path = f'{output_dir}/tmp.wav'\n",
    "base_speaker_tts.tts(text, src_path, speaker='default', language='English', speed=1.0)\n",
    "\n",
    "# Run the tone color converter\n",
    "encode_message = \"@MyShell\"\n",
    "tone_color_converter.convert(\n",
    "    audio_src_path=src_path, \n",
    "    src_se=source_se, \n",
    "    tgt_se=target_se, \n",
    "    output_path=save_path,\n",
    "    message=encode_message)"
   ]
  },
  {
   "cell_type": "markdown",
   "id": "6e3ea28a",
   "metadata": {},
   "source": [
    "**Try with different styles and speed.** The style can be controlled by the `speaker` parameter in the `base_speaker_tts.tts` method. Available choices: friendly, cheerful, excited, sad, angry, terrified, shouting, whispering. Note that the tone color embedding need to be updated. The speed can be controlled by the `speed` parameter. Let's try whispering with speed 0.9."
   ]
  },
  {
   "cell_type": "code",
   "execution_count": 16,
   "id": "fd022d38",
   "metadata": {},
   "outputs": [
    {
     "name": "stderr",
     "output_type": "stream",
     "text": [
      "/var/folders/5x/8_5m_9v57bz_btfk508ff3hc0000gn/T/ipykernel_11186/893175530.py:1: FutureWarning: You are using `torch.load` with `weights_only=False` (the current default value), which uses the default pickle module implicitly. It is possible to construct malicious pickle data which will execute arbitrary code during unpickling (See https://github.com/pytorch/pytorch/blob/main/SECURITY.md#untrusted-models for more details). In a future release, the default value for `weights_only` will be flipped to `True`. This limits the functions that could be executed during unpickling. Arbitrary objects will no longer be allowed to be loaded via this mode unless they are explicitly allowlisted by the user via `torch.serialization.add_safe_globals`. We recommend you start setting `weights_only=True` for any use case where you don't have full control of the loaded file. Please open an issue on GitHub for any issues related to this experimental feature.\n",
      "  source_se = torch.load(f'{ckpt_base}/en_style_se.pth').to(device)\n"
     ]
    },
    {
     "name": "stdout",
     "output_type": "stream",
     "text": [
      " > Text splitted to sentences.\n",
      "Hi there! I hope you're doing well today. I just wanted to say how great it is to see your dedication and hard work.\n",
      "Keep pushing forward, and always remember that every step you take is progress.\n",
      "No matter the challenges, you're doing amazing. Take it one day at a time and trust the process.\n",
      "Keep going, you're on the right path! Let's continue to move forward and keep striving for success.\n",
      "Together, we can make incredible things happen!\n",
      " > ===========================\n",
      "haɪ ðɛɹ! aɪ hoʊp jʊɹ duɪŋ wɛɫ təˈdeɪ. aɪ dʒɪst ˈwɔntɪd tɪ seɪ haʊ gɹeɪt ɪt ɪz tɪ si jʊɹ ˌdɛdəˈkeɪʃən ənd hɑɹd wəɹk.\n",
      " length:115\n",
      " length:115\n",
      "kip ˈpʊʃɪŋ ˈfɔɹwəɹd, ənd ˈɔlˌweɪz ɹɪˈmɛmbəɹ ðət ˈɛvəɹi stɛp ju teɪk ɪz ˈpɹɑˌgɹɛs.\n",
      " length:81\n",
      " length:81\n",
      "noʊ ˈmætəɹ ðə ˈtʃæləndʒɪz, jʊɹ duɪŋ əˈmeɪzɪŋ. teɪk ɪt wən deɪ æt ə taɪm ənd tɹəst ðə ˈpɹɔˌsɛs.\n",
      " length:94\n",
      " length:94\n",
      "kip goʊɪŋ, jʊɹ ɔn ðə ɹaɪt pæθ! lɛts kənˈtɪnju tɪ muv ˈfɔɹwəɹd ənd kip ˈstɹaɪvɪŋ fəɹ səkˈsɛs.\n",
      " length:92\n",
      " length:92\n",
      "təˈgɛðəɹ, wi kən meɪk ˌɪnˈkɹɛdəbəɫ θɪŋz ˈhæpən!\n",
      " length:47\n",
      " length:47\n"
     ]
    }
   ],
   "source": [
    "source_se = torch.load(f'{ckpt_base}/en_style_se.pth').to(device)\n",
    "save_path = f'{output_dir}/output_whispering.wav'\n",
    "\n",
    "# Run the base speaker tts\n",
    "text = \"Hi there! I hope you're doing well today. I just wanted to say how great it is to see your dedication and hard work. Keep pushing forward, and always remember that every step you take is progress. No matter the challenges, you’re doing amazing. Take it one day at a time and trust the process. Keep going, you're on the right path! Let's continue to move forward and keep striving for success. Together, we can make incredible things happen!\"\n",
    "src_path = f'{output_dir}/tmp.wav'\n",
    "base_speaker_tts.tts(text, src_path, speaker='whispering', language='English', speed=0.9)\n",
    "\n",
    "# Run the tone color converter\n",
    "encode_message = \"@MyShell\"\n",
    "tone_color_converter.convert(\n",
    "    audio_src_path=src_path, \n",
    "    src_se=source_se, \n",
    "    tgt_se=target_se, \n",
    "    output_path=save_path,\n",
    "    message=encode_message)"
   ]
  },
  {
   "cell_type": "markdown",
   "id": "5fcfc70b",
   "metadata": {},
   "source": [
    "**Try with different languages.** OpenVoice can achieve multi-lingual voice cloning by simply replace the base speaker. We provide an example with a Chinese base speaker here and we encourage the readers to try `demo_part2.ipynb` for a detailed demo."
   ]
  },
  {
   "cell_type": "code",
   "execution_count": null,
   "id": "a71d1387",
   "metadata": {},
   "outputs": [],
   "source": [
    "\n",
    "ckpt_base = 'checkpoints/base_speakers/ZH'\n",
    "base_speaker_tts = BaseSpeakerTTS(f'{ckpt_base}/config.json', device=device)\n",
    "base_speaker_tts.load_ckpt(f'{ckpt_base}/checkpoint.pth')\n",
    "\n",
    "source_se = torch.load(f'{ckpt_base}/zh_default_se.pth').to(device)\n",
    "save_path = f'{output_dir}/output_chinese.wav'\n",
    "\n",
    "# Run the base speaker tts\n",
    "text = \"今天天气真好，我们一起出去吃饭吧。\"\n",
    "src_path = f'{output_dir}/tmp.wav'\n",
    "base_speaker_tts.tts(text, src_path, speaker='default', language='Chinese', speed=1.0)\n",
    "\n",
    "# Run the tone color converter\n",
    "encode_message = \"@MyShell\"\n",
    "tone_color_converter.convert(\n",
    "    audio_src_path=src_path, \n",
    "    src_se=source_se, \n",
    "    tgt_se=target_se, \n",
    "    output_path=save_path,\n",
    "    message=encode_message)"
   ]
  },
  {
   "cell_type": "markdown",
   "id": "8e513094",
   "metadata": {},
   "source": [
    "**Tech for good.** For people who will deploy OpenVoice for public usage: We offer you the option to add watermark to avoid potential misuse. Please see the ToneColorConverter class. **MyShell reserves the ability to detect whether an audio is generated by OpenVoice**, no matter whether the watermark is added or not."
   ]
  }
 ],
 "metadata": {
  "kernelspec": {
   "display_name": "openvoice",
   "language": "python",
   "name": "python3"
  },
  "language_info": {
   "codemirror_mode": {
    "name": "ipython",
    "version": 3
   },
   "file_extension": ".py",
   "mimetype": "text/x-python",
   "name": "python",
   "nbconvert_exporter": "python",
   "pygments_lexer": "ipython3",
   "version": "3.10.16"
  }
 },
 "nbformat": 4,
 "nbformat_minor": 5
}
